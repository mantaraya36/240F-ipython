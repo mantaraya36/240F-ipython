{
 "metadata": {
  "name": "",
  "signature": "sha256:130aca2f8a24aec0fe718b74de0f282d9e8505c346ecdf2433ae048b2bf3d562"
 },
 "nbformat": 3,
 "nbformat_minor": 0,
 "worksheets": [
  {
   "cells": [
    {
     "cell_type": "code",
     "collapsed": false,
     "input": [
      "%pylab inline"
     ],
     "language": "python",
     "metadata": {},
     "outputs": [
      {
       "output_type": "stream",
       "stream": "stdout",
       "text": [
        "Populating the interactive namespace from numpy and matplotlib\n"
       ]
      }
     ],
     "prompt_number": 1
    },
    {
     "cell_type": "markdown",
     "metadata": {},
     "source": [
      "http://earthquake.usgs.gov/earthquakes/feed/v1.0/"
     ]
    },
    {
     "cell_type": "code",
     "collapsed": false,
     "input": [
      "!wget http://earthquake.usgs.gov/earthquakes/feed/v1.0/summary/all_hour.quakeml"
     ],
     "language": "python",
     "metadata": {},
     "outputs": [
      {
       "output_type": "stream",
       "stream": "stdout",
       "text": [
        "--2014-03-25 13:27:26--  http://earthquake.usgs.gov/earthquakes/feed/v1.0/summary/all_hour.quakeml\r\n",
        "Resolving earthquake.usgs.gov (earthquake.usgs.gov)... 8.27.241.126, 4.27.26.125\r\n",
        "Connecting to earthquake.usgs.gov (earthquake.usgs.gov)|8.27.241.126|:80... "
       ]
      },
      {
       "output_type": "stream",
       "stream": "stdout",
       "text": [
        "connected.\r\n",
        "HTTP request sent, awaiting response... "
       ]
      },
      {
       "output_type": "stream",
       "stream": "stdout",
       "text": [
        "200 OK\r\n",
        "Length: unspecified [application/xml]\r\n",
        "Saving to: \u2018all_hour.quakeml\u2019\r\n",
        "\r\n",
        "\r",
        "    [<=>                                    ] 0           --.-K/s              "
       ]
      },
      {
       "output_type": "stream",
       "stream": "stdout",
       "text": [
        "\r",
        "    [ <=>                                   ] 13,822      --.-K/s   in 0.09s   \r\n",
        "\r\n",
        "2014-03-25 13:27:27 (151 KB/s) - \u2018all_hour.quakeml\u2019 saved [13822]\r\n",
        "\r\n"
       ]
      }
     ],
     "prompt_number": 6
    },
    {
     "cell_type": "markdown",
     "metadata": {},
     "source": [
      "#XML (eXtensible Markup language)\n",
      "\n",
      "https://www.w3.org/XML/\n",
      "\n",
      "https://en.wikipedia.org/wiki/XML"
     ]
    },
    {
     "cell_type": "code",
     "collapsed": false,
     "input": [
      "import xml.etree.ElementTree as ET\n",
      "tree = ET.parse('all_hour.quakeml')\n",
      "root = tree.getroot()"
     ],
     "language": "python",
     "metadata": {},
     "outputs": [],
     "prompt_number": 31
    },
    {
     "cell_type": "markdown",
     "metadata": {},
     "source": [
      "Good tutorial on ElementTree:\n",
      "http://getpython3.com/diveintopython3/xml.html#xml-parse\n",
      "\n",
      "Other options: \n",
      "\n",
      "* http://docs.python.org/2/library/markup.html\n",
      "* http://lxml.de/index.html\n",
      "* http://www.crummy.com/software/BeautifulSoup/"
     ]
    },
    {
     "cell_type": "code",
     "collapsed": false,
     "input": [
      "root"
     ],
     "language": "python",
     "metadata": {},
     "outputs": [
      {
       "metadata": {},
       "output_type": "pyout",
       "prompt_number": 32,
       "text": [
        "<Element '{http://quakeml.org/xmlns/quakeml/1.2}quakeml' at 0x4a57f10>"
       ]
      }
     ],
     "prompt_number": 32
    },
    {
     "cell_type": "markdown",
     "metadata": {},
     "source": [
      "https://quake.ethz.ch/quakeml/Documents"
     ]
    },
    {
     "cell_type": "code",
     "collapsed": false,
     "input": [
      "root.tag"
     ],
     "language": "python",
     "metadata": {},
     "outputs": [
      {
       "metadata": {},
       "output_type": "pyout",
       "prompt_number": 33,
       "text": [
        "'{http://quakeml.org/xmlns/quakeml/1.2}quakeml'"
       ]
      }
     ],
     "prompt_number": 33
    },
    {
     "cell_type": "code",
     "collapsed": false,
     "input": [
      "root.attrib"
     ],
     "language": "python",
     "metadata": {},
     "outputs": [
      {
       "metadata": {},
       "output_type": "pyout",
       "prompt_number": 34,
       "text": [
        "{}"
       ]
      }
     ],
     "prompt_number": 34
    },
    {
     "cell_type": "code",
     "collapsed": false,
     "input": [
      "for child in root:\n",
      "   print child.tag,  \":\",  child.attrib"
     ],
     "language": "python",
     "metadata": {},
     "outputs": [
      {
       "output_type": "stream",
       "stream": "stdout",
       "text": [
        "{http://quakeml.org/xmlns/bed/1.2}eventParameters : {'publicID': 'quakeml:earthquake.usgs.gov/earthquakes/feed/v1.0/summary/all_hour.quakeml#requested=2014-03-25T20:27:27.000Z'}\n"
       ]
      }
     ],
     "prompt_number": 37
    },
    {
     "cell_type": "code",
     "collapsed": false,
     "input": [
      "root[0]"
     ],
     "language": "python",
     "metadata": {},
     "outputs": [
      {
       "metadata": {},
       "output_type": "pyout",
       "prompt_number": 38,
       "text": [
        "<Element '{http://quakeml.org/xmlns/bed/1.2}eventParameters' at 0x4a57f50>"
       ]
      }
     ],
     "prompt_number": 38
    },
    {
     "cell_type": "code",
     "collapsed": false,
     "input": [
      "eventParameters = root[0]\n",
      "eventParameters.getchildren()"
     ],
     "language": "python",
     "metadata": {},
     "outputs": [
      {
       "metadata": {},
       "output_type": "pyout",
       "prompt_number": 49,
       "text": [
        "[<Element '{http://quakeml.org/xmlns/bed/1.2}event' at 0x4a57f90>,\n",
        " <Element '{http://quakeml.org/xmlns/bed/1.2}event' at 0x4a99ad0>,\n",
        " <Element '{http://quakeml.org/xmlns/bed/1.2}event' at 0x4a9a650>,\n",
        " <Element '{http://quakeml.org/xmlns/bed/1.2}event' at 0x4a9b1d0>,\n",
        " <Element '{http://quakeml.org/xmlns/bed/1.2}event' at 0x4a9bc10>,\n",
        " <Element '{http://quakeml.org/xmlns/bed/1.2}event' at 0x4a9d690>,\n",
        " <Element '{http://quakeml.org/xmlns/bed/1.2}event' at 0x4aa0110>,\n",
        " <Element '{http://quakeml.org/xmlns/bed/1.2}creationInfo' at 0x4aa0c90>]"
       ]
      }
     ],
     "prompt_number": 49
    },
    {
     "cell_type": "code",
     "collapsed": false,
     "input": [
      "for child in eventParameters:\n",
      "   print child.tag,  \":\",  child.attrib"
     ],
     "language": "python",
     "metadata": {},
     "outputs": [
      {
       "output_type": "stream",
       "stream": "stdout",
       "text": [
        "{http://quakeml.org/xmlns/bed/1.2}event : {'{http://anss.org/xmlns/catalog/0.1}eventid': '72188865', 'publicID': 'quakeml:earthquake.usgs.gov/earthquakes/feed/v1.0/detail/nc72188865.quakeml', '{http://anss.org/xmlns/catalog/0.1}eventsource': 'nc', '{http://anss.org/xmlns/catalog/0.1}datasource': 'nc'}\n",
        "{http://quakeml.org/xmlns/bed/1.2}event : {'{http://anss.org/xmlns/catalog/0.1}eventid': '72188860', 'publicID': 'quakeml:earthquake.usgs.gov/earthquakes/feed/v1.0/detail/nc72188860.quakeml', '{http://anss.org/xmlns/catalog/0.1}eventsource': 'nc', '{http://anss.org/xmlns/catalog/0.1}datasource': 'nc'}\n",
        "{http://quakeml.org/xmlns/bed/1.2}event : {'{http://anss.org/xmlns/catalog/0.1}eventid': '72188855', 'publicID': 'quakeml:earthquake.usgs.gov/earthquakes/feed/v1.0/detail/nc72188855.quakeml', '{http://anss.org/xmlns/catalog/0.1}eventsource': 'nc', '{http://anss.org/xmlns/catalog/0.1}datasource': 'nc'}\n",
        "{http://quakeml.org/xmlns/bed/1.2}event : {'{http://anss.org/xmlns/catalog/0.1}eventid': '11198395', 'publicID': 'quakeml:earthquake.usgs.gov/earthquakes/feed/v1.0/detail/ak11198395.quakeml', '{http://anss.org/xmlns/catalog/0.1}eventsource': 'ak', '{http://anss.org/xmlns/catalog/0.1}datasource': 'ak'}\n",
        "{http://quakeml.org/xmlns/bed/1.2}event : {'{http://anss.org/xmlns/catalog/0.1}eventid': 'c000nq6f', 'publicID': 'quakeml:earthquake.usgs.gov/earthquakes/feed/v1.0/detail/usc000nq6f.quakeml', '{http://anss.org/xmlns/catalog/0.1}eventsource': 'us', '{http://anss.org/xmlns/catalog/0.1}datasource': 'us'}\n",
        "{http://quakeml.org/xmlns/bed/1.2}event : {'{http://anss.org/xmlns/catalog/0.1}eventid': '11198336', 'publicID': 'quakeml:earthquake.usgs.gov/earthquakes/feed/v1.0/detail/ak11198336.quakeml', '{http://anss.org/xmlns/catalog/0.1}eventsource': 'ak', '{http://anss.org/xmlns/catalog/0.1}datasource': 'ak'}\n",
        "{http://quakeml.org/xmlns/bed/1.2}event : {'{http://anss.org/xmlns/catalog/0.1}eventid': '15480193', 'publicID': 'quakeml:earthquake.usgs.gov/earthquakes/feed/v1.0/detail/ci15480193.quakeml', '{http://anss.org/xmlns/catalog/0.1}eventsource': 'ci', '{http://anss.org/xmlns/catalog/0.1}datasource': 'ci'}\n",
        "{http://quakeml.org/xmlns/bed/1.2}creationInfo : {}\n"
       ]
      }
     ],
     "prompt_number": 42
    },
    {
     "cell_type": "code",
     "collapsed": false,
     "input": [
      "eventParameters.findall(\"{http://quakeml.org/xmlns/bed/1.2}creationInfo\")"
     ],
     "language": "python",
     "metadata": {},
     "outputs": [
      {
       "metadata": {},
       "output_type": "pyout",
       "prompt_number": 53,
       "text": [
        "[<Element '{http://quakeml.org/xmlns/bed/1.2}creationInfo' at 0x4aa0c90>]"
       ]
      }
     ],
     "prompt_number": 53
    },
    {
     "cell_type": "code",
     "collapsed": false,
     "input": [
      "creationInfo = eventParameters.findall(\"{http://quakeml.org/xmlns/bed/1.2}creationInfo\")\n",
      "creationInfo[0]"
     ],
     "language": "python",
     "metadata": {},
     "outputs": [
      {
       "metadata": {},
       "output_type": "pyout",
       "prompt_number": 58,
       "text": [
        "<Element '{http://quakeml.org/xmlns/bed/1.2}creationInfo' at 0x4aa0c90>"
       ]
      }
     ],
     "prompt_number": 58
    },
    {
     "cell_type": "code",
     "collapsed": false,
     "input": [
      "for child in creationInfo[0]:\n",
      "    print child"
     ],
     "language": "python",
     "metadata": {},
     "outputs": [
      {
       "output_type": "stream",
       "stream": "stdout",
       "text": [
        "<Element '{http://quakeml.org/xmlns/bed/1.2}creationTime' at 0x4aa0cd0>\n"
       ]
      }
     ],
     "prompt_number": 60
    },
    {
     "cell_type": "code",
     "collapsed": false,
     "input": [
      "creationTime = creationInfo[0].findall('{http://quakeml.org/xmlns/bed/1.2}creationTime')\n",
      "creationTime"
     ],
     "language": "python",
     "metadata": {},
     "outputs": [
      {
       "metadata": {},
       "output_type": "pyout",
       "prompt_number": 73,
       "text": [
        "[<Element '{http://quakeml.org/xmlns/bed/1.2}creationTime' at 0x4aa0cd0>]"
       ]
      }
     ],
     "prompt_number": 73
    },
    {
     "cell_type": "code",
     "collapsed": false,
     "input": [
      "creationTime[0].text"
     ],
     "language": "python",
     "metadata": {},
     "outputs": [
      {
       "metadata": {},
       "output_type": "pyout",
       "prompt_number": 74,
       "text": [
        "'2014-03-25T20:27:27.000Z'"
       ]
      }
     ],
     "prompt_number": 74
    },
    {
     "cell_type": "code",
     "collapsed": false,
     "input": [
      "events = eventParameters.findall('{http://quakeml.org/xmlns/bed/1.2}event')\n",
      "events"
     ],
     "language": "python",
     "metadata": {},
     "outputs": [
      {
       "metadata": {},
       "output_type": "pyout",
       "prompt_number": 76,
       "text": [
        "[<Element '{http://quakeml.org/xmlns/bed/1.2}event' at 0x4a57f90>,\n",
        " <Element '{http://quakeml.org/xmlns/bed/1.2}event' at 0x4a99ad0>,\n",
        " <Element '{http://quakeml.org/xmlns/bed/1.2}event' at 0x4a9a650>,\n",
        " <Element '{http://quakeml.org/xmlns/bed/1.2}event' at 0x4a9b1d0>,\n",
        " <Element '{http://quakeml.org/xmlns/bed/1.2}event' at 0x4a9bc10>,\n",
        " <Element '{http://quakeml.org/xmlns/bed/1.2}event' at 0x4a9d690>,\n",
        " <Element '{http://quakeml.org/xmlns/bed/1.2}event' at 0x4aa0110>]"
       ]
      }
     ],
     "prompt_number": 76
    },
    {
     "cell_type": "code",
     "collapsed": false,
     "input": [
      "events = eventParameters.getElementsByTagName('event') "
     ],
     "language": "python",
     "metadata": {},
     "outputs": [],
     "prompt_number": 27
    },
    {
     "cell_type": "code",
     "collapsed": false,
     "input": [
      "events"
     ],
     "language": "python",
     "metadata": {},
     "outputs": [
      {
       "metadata": {},
       "output_type": "pyout",
       "prompt_number": 28,
       "text": [
        "[<DOM Element: event at 0x48e63b0>,\n",
        " <DOM Element: event at 0x48ed200>,\n",
        " <DOM Element: event at 0x48f1098>,\n",
        " <DOM Element: event at 0x48f3f38>,\n",
        " <DOM Element: event at 0x48f7ab8>,\n",
        " <DOM Element: event at 0x48fa758>,\n",
        " <DOM Element: event at 0x48fe2d8>]"
       ]
      }
     ],
     "prompt_number": 28
    },
    {
     "cell_type": "code",
     "collapsed": false,
     "input": [
      "for e in events[0]:\n",
      "    print e"
     ],
     "language": "python",
     "metadata": {},
     "outputs": [
      {
       "output_type": "stream",
       "stream": "stdout",
       "text": [
        "<Element '{http://quakeml.org/xmlns/bed/1.2}origin' at 0x4a57fd0>\n",
        "<Element '{http://quakeml.org/xmlns/bed/1.2}magnitude' at 0x4a99650>\n",
        "<Element '{http://quakeml.org/xmlns/bed/1.2}preferredOriginID' at 0x4a998d0>\n",
        "<Element '{http://quakeml.org/xmlns/bed/1.2}preferredMagnitudeID' at 0x4a99910>\n",
        "<Element '{http://quakeml.org/xmlns/bed/1.2}type' at 0x4a99950>\n",
        "<Element '{http://quakeml.org/xmlns/bed/1.2}creationInfo' at 0x4a99990>\n"
       ]
      }
     ],
     "prompt_number": 77
    },
    {
     "cell_type": "markdown",
     "metadata": {},
     "source": [
      "------------------------------\n",
      "By: Andr\u00e9s Cabrera mantaraya36@gmail.com\n",
      "\n",
      "For Course MAT 240F at UCSB\n",
      "\n",
      "This ipython notebook is licensed under the CC-BY-NC-SA license: http://creativecommons.org/licenses/by-nc-sa/4.0/\n",
      "\n",
      "![http://i.creativecommons.org/l/by-nc-sa/3.0/88x31.png](http://i.creativecommons.org/l/by-nc-sa/3.0/88x31.png)"
     ]
    }
   ],
   "metadata": {}
  }
 ]
}