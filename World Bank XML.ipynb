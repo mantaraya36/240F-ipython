{
 "metadata": {
  "name": "World Bank XML"
 },
 "nbformat": 3,
 "nbformat_minor": 0,
 "worksheets": [
  {
   "cells": [
    {
     "cell_type": "markdown",
     "metadata": {},
     "source": [
      "Data from: http://data.worldbank.org/topic/agriculture-and-rural-development\n",
      "\n",
      "http://data.worldbank.org/about/world-development-indicators-data/agriculture-and-rural-development"
     ]
    },
    {
     "cell_type": "code",
     "collapsed": false,
     "input": [
      "f = open(\"1_Topic_en_xml_v2.xml\")\n",
      "print f.readline()"
     ],
     "language": "python",
     "metadata": {},
     "outputs": [
      {
       "output_type": "stream",
       "stream": "stdout",
       "text": [
        "\ufeff<?xml version=\"1.0\" encoding=\"utf-8\"?>\r\n",
        "\n"
       ]
      }
     ],
     "prompt_number": 1
    },
    {
     "cell_type": "code",
     "collapsed": false,
     "input": [
      "print f.readline()"
     ],
     "language": "python",
     "metadata": {},
     "outputs": [
      {
       "output_type": "stream",
       "stream": "stdout",
       "text": [
        "<Root xmlns:wb=\"http://www.worldbank.org\">\r\n",
        "\n"
       ]
      }
     ],
     "prompt_number": 2
    },
    {
     "cell_type": "markdown",
     "metadata": {},
     "source": [
      "XML namespaces: http://www.w3schools.com/xml/xml_namespaces.asp\n",
      "\n",
      "XML schema and validation:\n",
      "\n",
      "* http://www.w3schools.com/xml/xml_dtd.asp\n",
      "* http://www.w3schools.com/xml/xml_schema.asp\n",
      "* http://en.wikipedia.org/wiki/RELAX_NG\n",
      "* http://en.wikipedia.org/wiki/XML_Schema_Language_Comparison\n"
     ]
    },
    {
     "cell_type": "code",
     "collapsed": false,
     "input": [
      "for i in range(10):\n",
      "    print f.readline(),"
     ],
     "language": "python",
     "metadata": {},
     "outputs": [
      {
       "output_type": "stream",
       "stream": "stdout",
       "text": [
        "  <data>\r\n",
        "    <record>\r\n",
        "      <field name=\"Country or Area\" key=\"ABW\">Aruba</field>\r\n",
        "      <field name=\"Item\" key=\"AG.AGR.TRAC.NO\">Agricultural machinery, tractors</field>\r\n",
        "      <field name=\"Year\">1960</field>\r\n",
        "      <field name=\"Value\" />\r\n",
        "    </record>\r\n",
        "    <record>\r\n",
        "      <field name=\"Country or Area\" key=\"ABW\">Aruba</field>\r\n",
        "      <field name=\"Item\" key=\"AG.AGR.TRAC.NO\">Agricultural machinery, tractors</field>\r\n"
       ]
      }
     ],
     "prompt_number": 3
    },
    {
     "cell_type": "code",
     "collapsed": false,
     "input": [
      "for i in range(40):\n",
      "    print f.readline(),"
     ],
     "language": "python",
     "metadata": {},
     "outputs": [
      {
       "output_type": "stream",
       "stream": "stdout",
       "text": [
        "      <field name=\"Year\">1961</field>\r\n",
        "      <field name=\"Value\" />\r\n",
        "    </record>\r\n",
        "    <record>\r\n",
        "      <field name=\"Country or Area\" key=\"ABW\">Aruba</field>\r\n",
        "      <field name=\"Item\" key=\"AG.AGR.TRAC.NO\">Agricultural machinery, tractors</field>\r\n",
        "      <field name=\"Year\">1962</field>\r\n",
        "      <field name=\"Value\" />\r\n",
        "    </record>\r\n",
        "    <record>\r\n",
        "      <field name=\"Country or Area\" key=\"ABW\">Aruba</field>\r\n",
        "      <field name=\"Item\" key=\"AG.AGR.TRAC.NO\">Agricultural machinery, tractors</field>\r\n",
        "      <field name=\"Year\">1963</field>\r\n",
        "      <field name=\"Value\" />\r\n",
        "    </record>\r\n",
        "    <record>\r\n",
        "      <field name=\"Country or Area\" key=\"ABW\">Aruba</field>\r\n",
        "      <field name=\"Item\" key=\"AG.AGR.TRAC.NO\">Agricultural machinery, tractors</field>\r\n",
        "      <field name=\"Year\">1964</field>\r\n",
        "      <field name=\"Value\" />\r\n",
        "    </record>\r\n",
        "    <record>\r\n",
        "      <field name=\"Country or Area\" key=\"ABW\">Aruba</field>\r\n",
        "      <field name=\"Item\" key=\"AG.AGR.TRAC.NO\">Agricultural machinery, tractors</field>\r\n",
        "      <field name=\"Year\">1965</field>\r\n",
        "      <field name=\"Value\" />\r\n",
        "    </record>\r\n",
        "    <record>\r\n",
        "      <field name=\"Country or Area\" key=\"ABW\">Aruba</field>\r\n",
        "      <field name=\"Item\" key=\"AG.AGR.TRAC.NO\">Agricultural machinery, tractors</field>\r\n",
        "      <field name=\"Year\">1966</field>\r\n",
        "      <field name=\"Value\" />\r\n",
        "    </record>\r\n",
        "    <record>\r\n",
        "      <field name=\"Country or Area\" key=\"ABW\">Aruba</field>\r\n",
        "      <field name=\"Item\" key=\"AG.AGR.TRAC.NO\">Agricultural machinery, tractors</field>\r\n",
        "      <field name=\"Year\">1967</field>\r\n",
        "      <field name=\"Value\" />\r\n",
        "    </record>\r\n",
        "    <record>\r\n"
       ]
      }
     ],
     "prompt_number": 4
    },
    {
     "cell_type": "code",
     "collapsed": false,
     "input": [
      "import xml.etree.ElementTree as ET\n",
      "tree = ET.parse('1_Topic_en_xml_v2.xml')\n",
      "root = tree.getroot()"
     ],
     "language": "python",
     "metadata": {},
     "outputs": [],
     "prompt_number": 5
    },
    {
     "cell_type": "markdown",
     "metadata": {},
     "source": [
      "Good tutorial on ElementTree:\n",
      "http://getpython3.com/diveintopython3/xml.html#xml-parse\n",
      "\n",
      "Other options: \n",
      "\n",
      "* http://docs.python.org/2/library/markup.html\n",
      "* http://lxml.de/index.html\n",
      "* http://www.crummy.com/software/BeautifulSoup/"
     ]
    },
    {
     "cell_type": "code",
     "collapsed": false,
     "input": [
      "root"
     ],
     "language": "python",
     "metadata": {},
     "outputs": [
      {
       "output_type": "pyout",
       "prompt_number": 6,
       "text": [
        "<Element 'Root' at 0x2fb4b90>"
       ]
      }
     ],
     "prompt_number": 6
    },
    {
     "cell_type": "code",
     "collapsed": false,
     "input": [
      "for child in root:\n",
      "   print child.tag,  \":\",  child.attrib"
     ],
     "language": "python",
     "metadata": {},
     "outputs": [
      {
       "output_type": "stream",
       "stream": "stdout",
       "text": [
        "data : {}\n"
       ]
      }
     ],
     "prompt_number": 7
    },
    {
     "cell_type": "code",
     "collapsed": false,
     "input": [
      "root[0]"
     ],
     "language": "python",
     "metadata": {},
     "outputs": [
      {
       "output_type": "pyout",
       "prompt_number": 8,
       "text": [
        "<Element 'data' at 0x2fb4bd0>"
       ]
      }
     ],
     "prompt_number": 8
    },
    {
     "cell_type": "code",
     "collapsed": false,
     "input": [
      "data = root[0]\n",
      "records = data.getchildren()"
     ],
     "language": "python",
     "metadata": {},
     "outputs": [],
     "prompt_number": 9
    },
    {
     "cell_type": "code",
     "collapsed": false,
     "input": [
      "len(records)"
     ],
     "language": "python",
     "metadata": {},
     "outputs": [
      {
       "output_type": "pyout",
       "prompt_number": 10,
       "text": [
        "435456"
       ]
      }
     ],
     "prompt_number": 10
    },
    {
     "cell_type": "code",
     "collapsed": false,
     "input": [
      "records[0]"
     ],
     "language": "python",
     "metadata": {},
     "outputs": [
      {
       "output_type": "pyout",
       "prompt_number": 11,
       "text": [
        "<Element 'record' at 0x2fb4c10>"
       ]
      }
     ],
     "prompt_number": 11
    },
    {
     "cell_type": "code",
     "collapsed": false,
     "input": [
      "r = records[0]"
     ],
     "language": "python",
     "metadata": {},
     "outputs": [],
     "prompt_number": 12
    },
    {
     "cell_type": "code",
     "collapsed": false,
     "input": [
      "r.getchildren()"
     ],
     "language": "python",
     "metadata": {},
     "outputs": [
      {
       "output_type": "pyout",
       "prompt_number": 13,
       "text": [
        "[<Element 'field' at 0x2fb4c90>,\n",
        " <Element 'field' at 0x2fb4cd0>,\n",
        " <Element 'field' at 0x2fb4c50>,\n",
        " <Element 'field' at 0x2fb4d10>]"
       ]
      }
     ],
     "prompt_number": 13
    },
    {
     "cell_type": "code",
     "collapsed": false,
     "input": [
      "records[0][0]"
     ],
     "language": "python",
     "metadata": {},
     "outputs": [
      {
       "output_type": "pyout",
       "prompt_number": 14,
       "text": [
        "<Element 'field' at 0x2fb4c90>"
       ]
      }
     ],
     "prompt_number": 14
    },
    {
     "cell_type": "code",
     "collapsed": false,
     "input": [
      "records[0][0].text"
     ],
     "language": "python",
     "metadata": {},
     "outputs": [
      {
       "output_type": "pyout",
       "prompt_number": 15,
       "text": [
        "'Aruba'"
       ]
      }
     ],
     "prompt_number": 15
    },
    {
     "cell_type": "code",
     "collapsed": false,
     "input": [
      "r = records[0]\n",
      "for field in r:\n",
      "    print field.attrib"
     ],
     "language": "python",
     "metadata": {},
     "outputs": [
      {
       "output_type": "stream",
       "stream": "stdout",
       "text": [
        "{'name': 'Country or Area', 'key': 'ABW'}\n",
        "{'name': 'Item', 'key': 'AG.AGR.TRAC.NO'}\n",
        "{'name': 'Year'}\n",
        "{'name': 'Value'}\n"
       ]
      }
     ],
     "prompt_number": 16
    },
    {
     "cell_type": "code",
     "collapsed": false,
     "input": [
      "records_parsed = []\n",
      "\n",
      "for record in records:\n",
      "    r = {}\n",
      "    for field in record:\n",
      "        if field.attrib['name'] == 'Country or Area':\n",
      "            r['country'] = field.text\n",
      "        if field.attrib['name'] == 'Item':\n",
      "            r['item'] = field.text\n",
      "        if field.attrib['name'] == 'Year':\n",
      "            r['year'] = field.text\n",
      "        if field.attrib['name'] == 'Value':\n",
      "            r['value'] = field.text\n",
      "    records_parsed.append(r)"
     ],
     "language": "python",
     "metadata": {},
     "outputs": [],
     "prompt_number": 17
    },
    {
     "cell_type": "code",
     "collapsed": false,
     "input": [
      "records_parsed[0]"
     ],
     "language": "python",
     "metadata": {},
     "outputs": [
      {
       "output_type": "pyout",
       "prompt_number": 18,
       "text": [
        "{'country': 'Aruba',\n",
        " 'item': 'Agricultural machinery, tractors',\n",
        " 'value': None,\n",
        " 'year': '1960'}"
       ]
      }
     ],
     "prompt_number": 18
    },
    {
     "cell_type": "code",
     "collapsed": false,
     "input": [
      "items = set()\n",
      "\n",
      "for r in records_parsed:\n",
      "    items.add(r['item'])\n",
      "\n",
      "items"
     ],
     "language": "python",
     "metadata": {},
     "outputs": [
      {
       "output_type": "pyout",
       "prompt_number": 19,
       "text": [
        "set(['Arable land (hectares)',\n",
        "     'Agricultural machinery, tractors',\n",
        "     'Crop production index (2004-2006 = 100)',\n",
        "     'Food production index (2004-2006 = 100)',\n",
        "     'Arable land (% of land area)',\n",
        "     'Permanent cropland (% of land area)',\n",
        "     'Poverty headcount ratio at rural poverty line (% of rural population)',\n",
        "     'Cereal yield (kg per hectare)',\n",
        "     'Land area (sq. km)',\n",
        "     'Rural population growth (annual %)',\n",
        "     'Improved water source, rural (% of rural population with access)',\n",
        "     'Arable land (hectares per person)',\n",
        "     'Agricultural raw materials imports (% of merchandise imports)',\n",
        "     'Average precipitation in depth (mm per year)',\n",
        "     'Agricultural irrigated land (% of total agricultural land)',\n",
        "     'Fertilizer consumption (% of fertilizer production)',\n",
        "     'Forest area (% of land area)',\n",
        "     'Livestock production index (2004-2006 = 100)',\n",
        "     'Surface area (sq. km)',\n",
        "     'Agricultural machinery, tractors per 100 sq. km of arable land',\n",
        "     'Employment in agriculture (% of total employment)',\n",
        "     'Poverty gap at rural poverty line (%)',\n",
        "     'Rural population (% of total population)',\n",
        "     'Agriculture value added per worker (constant 2005 US$)',\n",
        "     'Agricultural raw materials exports (% of merchandise exports)',\n",
        "     'Fertilizer consumption (kilograms per hectare of arable land)',\n",
        "     'Forest area (sq. km)',\n",
        "     'Agricultural land (sq. km)',\n",
        "     'Agricultural land (% of land area)',\n",
        "     'Land under cereal production (hectares)',\n",
        "     'Agriculture, value added (% of GDP)',\n",
        "     'Rural population'])"
       ]
      }
     ],
     "prompt_number": 19
    },
    {
     "cell_type": "code",
     "collapsed": false,
     "input": [
      "items = set()\n",
      "\n",
      "for r in records_parsed:\n",
      "    items.add(r['country'])\n",
      "\n",
      "items"
     ],
     "language": "python",
     "metadata": {},
     "outputs": [
      {
       "output_type": "pyout",
       "prompt_number": 20,
       "text": [
        "set(['Canada',\n",
        "     'Sao Tome and Principe',\n",
        "     'Turkmenistan',\n",
        "     'Lao PDR',\n",
        "     'Arab World',\n",
        "     'Latin America & Caribbean (all income levels)',\n",
        "     'Cambodia',\n",
        "     'Ethiopia',\n",
        "     'Aruba',\n",
        "     'Swaziland',\n",
        "     'South Asia',\n",
        "     'Argentina',\n",
        "     'Bolivia',\n",
        "     'Bahamas, The',\n",
        "     'Burkina Faso',\n",
        "     'OECD members',\n",
        "     'Ghana',\n",
        "     'Saudi Arabia',\n",
        "     'Sub-Saharan Africa (IFC classification)',\n",
        "     'Thailand',\n",
        "     'Japan',\n",
        "     'Channel Islands',\n",
        "     'American Samoa',\n",
        "     'Northern Mariana Islands',\n",
        "     'Slovenia',\n",
        "     'Guatemala',\n",
        "     'Bosnia and Herzegovina',\n",
        "     'Kuwait',\n",
        "     'Russian Federation',\n",
        "     'Jordan',\n",
        "     'St. Lucia',\n",
        "     'Congo, Rep.',\n",
        "     'Dominica',\n",
        "     'Liberia',\n",
        "     'Maldives',\n",
        "     'East Asia & Pacific (all income levels)',\n",
        "     'Virgin Islands (U.S.)',\n",
        "     'Lithuania',\n",
        "     'Tanzania',\n",
        "     'Vietnam',\n",
        "     'Cabo Verde',\n",
        "     'Greenland',\n",
        "     'Gabon',\n",
        "     'Monaco',\n",
        "     'New Zealand',\n",
        "     'European Union',\n",
        "     'Jamaica',\n",
        "     'Albania',\n",
        "     'Samoa',\n",
        "     'Slovak Republic',\n",
        "     'United Arab Emirates',\n",
        "     'Guam',\n",
        "     'Uruguay',\n",
        "     'India',\n",
        "     'Azerbaijan',\n",
        "     'Lesotho',\n",
        "     'Kenya',\n",
        "     'Latin America and the Caribbean (IFC classification)',\n",
        "     'Upper middle income',\n",
        "     'Tajikistan',\n",
        "     'Pacific island small states',\n",
        "     'Turkey',\n",
        "     'Afghanistan',\n",
        "     'Venezuela, RB',\n",
        "     'Bangladesh',\n",
        "     'Mauritania',\n",
        "     'Solomon Islands',\n",
        "     'Korea, Rep.',\n",
        "     'San Marino',\n",
        "     'Mongolia',\n",
        "     'France',\n",
        "     'Syrian Arab Republic',\n",
        "     'Bermuda',\n",
        "     'Namibia',\n",
        "     'Somalia',\n",
        "     'Peru',\n",
        "     'Vanuatu',\n",
        "     'Nigeria',\n",
        "     'South Asia (IFC classification)',\n",
        "     'Norway',\n",
        "     \"Cote d'Ivoire\",\n",
        "     'Europe & Central Asia (developing only)',\n",
        "     'Benin',\n",
        "     'Other small states',\n",
        "     'Cuba',\n",
        "     'Cameroon',\n",
        "     'Montenegro',\n",
        "     'Low & middle income',\n",
        "     'Togo',\n",
        "     'China',\n",
        "     'Sub-Saharan Africa (developing only)',\n",
        "     'Armenia',\n",
        "     'Small states',\n",
        "     'Timor-Leste',\n",
        "     'Dominican Republic',\n",
        "     'Low income',\n",
        "     'Ukraine',\n",
        "     'Bahrain',\n",
        "     'Tonga',\n",
        "     'Finland',\n",
        "     'Latin America & Caribbean (developing only)',\n",
        "     'High income',\n",
        "     'Libya',\n",
        "     'Cayman Islands',\n",
        "     'Central African Republic',\n",
        "     'Europe & Central Asia (all income levels)',\n",
        "     'Mauritius',\n",
        "     'Liechtenstein',\n",
        "     'Belarus',\n",
        "     'Mali',\n",
        "     'Micronesia, Fed. Sts.',\n",
        "     'Korea, Dem. Rep.',\n",
        "     'Bulgaria',\n",
        "     'North America',\n",
        "     'Romania',\n",
        "     'Angola',\n",
        "     'Egypt, Arab Rep.',\n",
        "     'Trinidad and Tobago',\n",
        "     'St. Vincent and the Grenadines',\n",
        "     'Cyprus',\n",
        "     'Caribbean small states',\n",
        "     'Brunei Darussalam',\n",
        "     'Qatar',\n",
        "     'Middle income',\n",
        "     'Austria',\n",
        "     'High income: OECD',\n",
        "     'Mozambique',\n",
        "     'Uganda',\n",
        "     'Kyrgyz Republic',\n",
        "     'Hungary',\n",
        "     'Niger',\n",
        "     'United States',\n",
        "     'Brazil',\n",
        "     'World',\n",
        "     'Middle East & North Africa (all income levels)',\n",
        "     'Guinea',\n",
        "     'Panama',\n",
        "     'Costa Rica',\n",
        "     'Luxembourg',\n",
        "     'Andorra',\n",
        "     'Chad',\n",
        "     'Euro area',\n",
        "     'Ireland',\n",
        "     'Pakistan',\n",
        "     'Palau',\n",
        "     'Faeroe Islands',\n",
        "     'Lower middle income',\n",
        "     'Ecuador',\n",
        "     'Czech Republic',\n",
        "     'Australia',\n",
        "     'Algeria',\n",
        "     'East Asia and the Pacific (IFC classification)',\n",
        "     'El Salvador',\n",
        "     'Tuvalu',\n",
        "     'St. Kitts and Nevis',\n",
        "     'Marshall Islands',\n",
        "     'Chile',\n",
        "     'Puerto Rico',\n",
        "     'Belgium',\n",
        "     'Europe and Central Asia (IFC classification)',\n",
        "     'Haiti',\n",
        "     'Belize',\n",
        "     'Sierra Leone',\n",
        "     'Georgia',\n",
        "     'East Asia & Pacific (developing only)',\n",
        "     'Denmark',\n",
        "     'Philippines',\n",
        "     'Moldova',\n",
        "     'Macedonia, FYR',\n",
        "     'Morocco',\n",
        "     'Croatia',\n",
        "     'French Polynesia',\n",
        "     'Guinea-Bissau',\n",
        "     'Kiribati',\n",
        "     'Switzerland',\n",
        "     'Grenada',\n",
        "     'Middle East and North Africa (IFC classification)',\n",
        "     'Yemen, Rep.',\n",
        "     'Isle of Man',\n",
        "     'Portugal',\n",
        "     'Estonia',\n",
        "     'Kosovo',\n",
        "     'Sweden',\n",
        "     'Mexico',\n",
        "     'Hong Kong SAR, China',\n",
        "     'South Africa',\n",
        "     'Uzbekistan',\n",
        "     'West Bank and Gaza',\n",
        "     'Djibouti',\n",
        "     'Rwanda',\n",
        "     'Antigua and Barbuda',\n",
        "     'Spain',\n",
        "     'Colombia',\n",
        "     'Burundi',\n",
        "     'Least developed countries: UN classification',\n",
        "     'Fiji',\n",
        "     'Barbados',\n",
        "     'Seychelles',\n",
        "     'Madagascar',\n",
        "     'Congo, Dem. Rep.',\n",
        "     'Italy',\n",
        "     'Curacao',\n",
        "     'Bhutan',\n",
        "     'Sudan',\n",
        "     'Nepal',\n",
        "     'Malta',\n",
        "     'Netherlands',\n",
        "     'Macao SAR, China',\n",
        "     'Suriname',\n",
        "     'Middle East & North Africa (developing only)',\n",
        "     'Turks and Caicos Islands',\n",
        "     'St. Martin (French part)',\n",
        "     'Iran, Islamic Rep.',\n",
        "     'Israel',\n",
        "     'Indonesia',\n",
        "     'Malaysia',\n",
        "     'Iceland',\n",
        "     'Zambia',\n",
        "     'Sub-Saharan Africa (all income levels)',\n",
        "     'Senegal',\n",
        "     'Papua New Guinea',\n",
        "     'Malawi',\n",
        "     'Zimbabwe',\n",
        "     'Germany',\n",
        "     'Oman',\n",
        "     'Kazakhstan',\n",
        "     'Poland',\n",
        "     'Sint Maarten (Dutch part)',\n",
        "     'Eritrea',\n",
        "     'Iraq',\n",
        "     'New Caledonia',\n",
        "     'Paraguay',\n",
        "     'Not classified',\n",
        "     'Latvia',\n",
        "     'South Sudan',\n",
        "     'Guyana',\n",
        "     'Honduras',\n",
        "     'Myanmar',\n",
        "     'Equatorial Guinea',\n",
        "     'Tunisia',\n",
        "     'Nicaragua',\n",
        "     'Singapore',\n",
        "     'Serbia',\n",
        "     'Botswana',\n",
        "     'United Kingdom',\n",
        "     'Gambia, The',\n",
        "     'High income: nonOECD',\n",
        "     'Greece',\n",
        "     'Sri Lanka',\n",
        "     'Lebanon',\n",
        "     'Comoros',\n",
        "     'Heavily indebted poor countries (HIPC)'])"
       ]
      }
     ],
     "prompt_number": 20
    },
    {
     "cell_type": "code",
     "collapsed": false,
     "input": [
      "forest_areas = []\n",
      "\n",
      "for r in records_parsed:\n",
      "    if r['item'] == 'Forest area (% of land area)':\n",
      "        forest_areas.append(r)\n",
      "\n",
      "forest_areas[:5]"
     ],
     "language": "python",
     "metadata": {},
     "outputs": [
      {
       "output_type": "pyout",
       "prompt_number": 21,
       "text": [
        "[{'country': 'Aruba',\n",
        "  'item': 'Forest area (% of land area)',\n",
        "  'value': None,\n",
        "  'year': '1960'},\n",
        " {'country': 'Aruba',\n",
        "  'item': 'Forest area (% of land area)',\n",
        "  'value': None,\n",
        "  'year': '1961'},\n",
        " {'country': 'Aruba',\n",
        "  'item': 'Forest area (% of land area)',\n",
        "  'value': None,\n",
        "  'year': '1962'},\n",
        " {'country': 'Aruba',\n",
        "  'item': 'Forest area (% of land area)',\n",
        "  'value': None,\n",
        "  'year': '1963'},\n",
        " {'country': 'Aruba',\n",
        "  'item': 'Forest area (% of land area)',\n",
        "  'value': None,\n",
        "  'year': '1964'}]"
       ]
      }
     ],
     "prompt_number": 21
    },
    {
     "cell_type": "code",
     "collapsed": false,
     "input": [
      "forest_areas_parsed = {}\n",
      "for sample in forest_areas:\n",
      "    if sample['value']:\n",
      "        if not forest_areas_parsed.has_key(sample['country']):\n",
      "            forest_areas_parsed[sample['country']] =[[],[]]\n",
      "        forest_areas_parsed[sample['country']][0].append(int(sample['year']))\n",
      "        forest_areas_parsed[sample['country']][1].append(float(sample['value']))"
     ],
     "language": "python",
     "metadata": {},
     "outputs": [],
     "prompt_number": 22
    },
    {
     "cell_type": "code",
     "collapsed": false,
     "input": [
      "forest_areas_parsed['Aruba']"
     ],
     "language": "python",
     "metadata": {},
     "outputs": [
      {
       "output_type": "pyout",
       "prompt_number": 24,
       "text": [
        "[[1990,\n",
        "  1991,\n",
        "  1992,\n",
        "  1993,\n",
        "  1994,\n",
        "  1995,\n",
        "  1996,\n",
        "  1997,\n",
        "  1998,\n",
        "  1999,\n",
        "  2000,\n",
        "  2001,\n",
        "  2002,\n",
        "  2003,\n",
        "  2004,\n",
        "  2005,\n",
        "  2006,\n",
        "  2007,\n",
        "  2008,\n",
        "  2009,\n",
        "  2010,\n",
        "  2011],\n",
        " [2.22222222222222,\n",
        "  2.22222222222222,\n",
        "  2.22222222222222,\n",
        "  2.22222222222222,\n",
        "  2.22222222222222,\n",
        "  2.22222222222222,\n",
        "  2.22222222222222,\n",
        "  2.22222222222222,\n",
        "  2.22222222222222,\n",
        "  2.22222222222222,\n",
        "  2.22222222222222,\n",
        "  2.22222222222222,\n",
        "  2.22222222222222,\n",
        "  2.22222222222222,\n",
        "  2.22222222222222,\n",
        "  2.22222222222222,\n",
        "  2.22222222222222,\n",
        "  2.22222222222222,\n",
        "  2.22222222222222,\n",
        "  2.22222222222222,\n",
        "  2.33333333333333,\n",
        "  2.33333333333333]]"
       ]
      }
     ],
     "prompt_number": 24
    },
    {
     "cell_type": "code",
     "collapsed": false,
     "input": [
      "aruba_data = forest_areas_parsed['Aruba']\n",
      "plot(aruba_data[0], aruba_data[1])"
     ],
     "language": "python",
     "metadata": {},
     "outputs": [
      {
       "output_type": "pyout",
       "prompt_number": 25,
       "text": [
        "[<matplotlib.lines.Line2D at 0x7e072c50>]"
       ]
      },
      {
       "output_type": "display_data",
       "png": "[encoded data removed]"
      }
     ],
     "prompt_number": 25
    },
    {
     "cell_type": "code",
     "collapsed": false,
     "input": [
      "plot(*forest_areas_parsed['Aruba'])"
     ],
     "language": "python",
     "metadata": {},
     "outputs": [
      {
       "output_type": "pyout",
       "prompt_number": 26,
       "text": [
        "[<matplotlib.lines.Line2D at 0x7e228850>]"
       ]
      },
      {
       "output_type": "display_data",
       "png": "[encoded data removed]"
      }
     ],
     "prompt_number": 26
    },
    {
     "cell_type": "code",
     "collapsed": false,
     "input": [
      "for country,areas in forest_areas_parsed.items():\n",
      "    plot(*areas, label=country)"
     ],
     "language": "python",
     "metadata": {},
     "outputs": [
      {
       "output_type": "display_data",
       "png": "[encoded data removed]"
      }
     ],
     "prompt_number": 27
    },
    {
     "cell_type": "code",
     "collapsed": false,
     "input": [
      "def foo(*arg):\n",
      "    print arg\n",
      "\n",
      "foo(*'hello')\n",
      "foo('hello')"
     ],
     "language": "python",
     "metadata": {},
     "outputs": [
      {
       "output_type": "stream",
       "stream": "stdout",
       "text": [
        "('h', 'e', 'l', 'l', 'o')\n",
        "('hello',)\n"
       ]
      }
     ],
     "prompt_number": 41
    },
    {
     "cell_type": "code",
     "collapsed": false,
     "input": [
      "len(forest_areas_parsed)"
     ],
     "language": "python",
     "metadata": {},
     "outputs": [
      {
       "output_type": "pyout",
       "prompt_number": 28,
       "text": [
        "238"
       ]
      }
     ],
     "prompt_number": 28
    },
    {
     "cell_type": "code",
     "collapsed": false,
     "input": [
      "import csnd6"
     ],
     "language": "python",
     "metadata": {},
     "outputs": [],
     "prompt_number": 42
    },
    {
     "cell_type": "markdown",
     "metadata": {},
     "source": [
      "http://nbviewer.ipython.org/gist/jacobjoaquin/5535792"
     ]
    },
    {
     "cell_type": "code",
     "collapsed": false,
     "input": [
      "cs = csnd6.Csound()\n",
      "csPerf = csnd6.CsoundPerformanceThread(cs)\n",
      "cs.SetOption('-odac')\n",
      "cs.CompileOrc(\n",
      "'''sr = 44100\n",
      "ksmps = 128\n",
      "nchnls = 2\n",
      "0dbfs = 1.0\n",
      "''')"
     ],
     "language": "python",
     "metadata": {},
     "outputs": [
      {
       "output_type": "pyout",
       "prompt_number": 43,
       "text": [
        "0"
       ]
      }
     ],
     "prompt_number": 43
    },
    {
     "cell_type": "code",
     "collapsed": false,
     "input": [
      "cs.Start()\n",
      "csPerf.Play()"
     ],
     "language": "python",
     "metadata": {},
     "outputs": [],
     "prompt_number": 44
    },
    {
     "cell_type": "code",
     "collapsed": false,
     "input": [
      "cs.CompileOrc(\n",
      "'''instr 1\n",
      "idur = p3\n",
      "iamp = p4\n",
      "ifreq = p5\n",
      "\n",
      "k1 line 1, idur, 0\n",
      "a1 oscils iamp, ifreq, 1\n",
      "out a1 * k1, a1 * k1\n",
      "endin\n",
      "''')"
     ],
     "language": "python",
     "metadata": {},
     "outputs": [
      {
       "output_type": "pyout",
       "prompt_number": 92,
       "text": [
        "0"
       ]
      }
     ],
     "prompt_number": 92
    },
    {
     "cell_type": "code",
     "collapsed": false,
     "input": [
      "cs.ReadScore('i 1 0 1 0.5 440')"
     ],
     "language": "python",
     "metadata": {},
     "outputs": [
      {
       "output_type": "pyout",
       "prompt_number": 48,
       "text": [
        "0"
       ]
      }
     ],
     "prompt_number": 48
    },
    {
     "cell_type": "code",
     "collapsed": false,
     "input": [
      "def event(*args):\n",
      "    e = ' '.join(map(str, args))\n",
      "    cs.ReadScore(e)\n",
      "    #print e"
     ],
     "language": "python",
     "metadata": {},
     "outputs": [],
     "prompt_number": 49
    },
    {
     "cell_type": "code",
     "collapsed": false,
     "input": [
      "event('i', 1, 0, 0.25, 0.707, 262)"
     ],
     "language": "python",
     "metadata": {},
     "outputs": [],
     "prompt_number": 50
    },
    {
     "cell_type": "code",
     "collapsed": false,
     "input": [
      "for t in xrange(8):\n",
      "    event('i', 1, t, 1, 0.707, 440 + 440 * random.random())"
     ],
     "language": "python",
     "metadata": {},
     "outputs": [],
     "prompt_number": 55
    },
    {
     "cell_type": "code",
     "collapsed": false,
     "input": [
      "cs.CompileOrc(\n",
      "'''instr 2\n",
      "  iplk = 0.75\n",
      "  kamp = p4\n",
      "  icps = p5\n",
      "  kpick = 0.75\n",
      "  krefl = 0.5\n",
      "\n",
      "  aenv linen 1, 0.01, p3, 0.01\n",
      "  apluck wgpluck2 iplk, kamp, icps, kpick, krefl\n",
      "\n",
      "  out apluck * aenv, apluck * aenv\n",
      "endin\n",
      "''')"
     ],
     "language": "python",
     "metadata": {},
     "outputs": [
      {
       "output_type": "pyout",
       "prompt_number": 115,
       "text": [
        "0"
       ]
      }
     ],
     "prompt_number": 115
    },
    {
     "cell_type": "code",
     "collapsed": false,
     "input": [
      "for t in xrange(8):\n",
      "    event('i', 2, t*0.3, 1, 0.4, 440 + 440 * random.random())"
     ],
     "language": "python",
     "metadata": {},
     "outputs": [],
     "prompt_number": 62
    },
    {
     "cell_type": "code",
     "collapsed": false,
     "input": [
      "forest_areas_parsed['Colombia'][1]\n",
      "forest_areas_parsed['Colombia']"
     ],
     "language": "python",
     "metadata": {},
     "outputs": [
      {
       "output_type": "pyout",
       "prompt_number": 63,
       "text": [
        "[[1990,\n",
        "  1991,\n",
        "  1992,\n",
        "  1993,\n",
        "  1994,\n",
        "  1995,\n",
        "  1996,\n",
        "  1997,\n",
        "  1998,\n",
        "  1999,\n",
        "  2000,\n",
        "  2001,\n",
        "  2002,\n",
        "  2003,\n",
        "  2004,\n",
        "  2005,\n",
        "  2006,\n",
        "  2007,\n",
        "  2008,\n",
        "  2009,\n",
        "  2010,\n",
        "  2011],\n",
        " [56.3488057683641,\n",
        "  56.2577737719694,\n",
        "  56.1667417755746,\n",
        "  56.0757097791798,\n",
        "  55.984677782785,\n",
        "  55.8936457863903,\n",
        "  55.8026137899955,\n",
        "  55.7115817936007,\n",
        "  55.620549797206,\n",
        "  55.5295178008112,\n",
        "  55.4384858044164,\n",
        "  55.3474538080216,\n",
        "  55.2564218116269,\n",
        "  55.1653898152321,\n",
        "  55.0743578188373,\n",
        "  54.9833258224425,\n",
        "  54.8922938260478,\n",
        "  54.801261829653,\n",
        "  54.7102298332582,\n",
        "  54.6191978368635,\n",
        "  54.5281658404687,\n",
        "  54.4371338440739]]"
       ]
      }
     ],
     "prompt_number": 63
    },
    {
     "cell_type": "code",
     "collapsed": false,
     "input": [
      "max(forest_areas_parsed['Colombia'][1])"
     ],
     "language": "python",
     "metadata": {},
     "outputs": [
      {
       "output_type": "pyout",
       "prompt_number": 64,
       "text": [
        "56.3488057683641"
       ]
      }
     ],
     "prompt_number": 64
    },
    {
     "cell_type": "code",
     "collapsed": false,
     "input": [
      "min(forest_areas_parsed['Colombia'][1])"
     ],
     "language": "python",
     "metadata": {},
     "outputs": [
      {
       "output_type": "pyout",
       "prompt_number": 65,
       "text": [
        "54.4371338440739"
       ]
      }
     ],
     "prompt_number": 65
    },
    {
     "cell_type": "code",
     "collapsed": false,
     "input": [
      "score = ''\n",
      "\n",
      "base_hz = 220\n",
      "ceil_hz = 440\n",
      "\n",
      "initial_year = 1990\n",
      "dur = 0.25\n",
      "\n",
      "import itertools\n",
      "\n",
      "colombia_max = max(forest_areas_parsed['Colombia'][1])\n",
      "colombia_min = min(forest_areas_parsed['Colombia'][1])\n",
      "\n",
      "for year, value in itertools.izip(*forest_areas_parsed['Colombia']):\n",
      "    start_time = (year - initial_year) * dur\n",
      "    amp = 0.1\n",
      "    freq = base_hz + (ceil_hz - base_hz) * (value - colombia_min) / ( colombia_max - colombia_min)\n",
      "    \n",
      "    score += \"i 2 %f %f %f %f\\n\"%(start_time, dur, amp, freq)\n",
      "\n",
      "print score\n"
     ],
     "language": "python",
     "metadata": {},
     "outputs": [
      {
       "output_type": "stream",
       "stream": "stdout",
       "text": [
        "i 2 0.000000 0.250000 0.100000 440.000000\n",
        "i 2 0.250000 0.250000 0.100000 429.523810\n",
        "i 2 0.500000 0.250000 0.100000 419.047619\n",
        "i 2 0.750000 0.250000 0.100000 408.571429\n",
        "i 2 1.000000 0.250000 0.100000 398.095238\n",
        "i 2 1.250000 0.250000 0.100000 387.619048\n",
        "i 2 1.500000 0.250000 0.100000 377.142857\n",
        "i 2 1.750000 0.250000 0.100000 366.666667\n",
        "i 2 2.000000 0.250000 0.100000 356.190476\n",
        "i 2 2.250000 0.250000 0.100000 345.714286\n",
        "i 2 2.500000 0.250000 0.100000 335.238095\n",
        "i 2 2.750000 0.250000 0.100000 324.761905\n",
        "i 2 3.000000 0.250000 0.100000 314.285714\n",
        "i 2 3.250000 0.250000 0.100000 303.809524\n",
        "i 2 3.500000 0.250000 0.100000 293.333333\n",
        "i 2 3.750000 0.250000 0.100000 282.857143\n",
        "i 2 4.000000 0.250000 0.100000 272.380952\n",
        "i 2 4.250000 0.250000 0.100000 261.904762\n",
        "i 2 4.500000 0.250000 0.100000 251.428571\n",
        "i 2 4.750000 0.250000 0.100000 240.952381\n",
        "i 2 5.000000 0.250000 0.100000 230.476190\n",
        "i 2 5.250000 0.250000 0.100000 220.000000\n",
        "\n"
       ]
      }
     ],
     "prompt_number": 71
    },
    {
     "cell_type": "code",
     "collapsed": false,
     "input": [
      "cs.ReadScore(score)"
     ],
     "language": "python",
     "metadata": {},
     "outputs": [
      {
       "output_type": "pyout",
       "prompt_number": 72,
       "text": [
        "0"
       ]
      }
     ],
     "prompt_number": 72
    },
    {
     "cell_type": "code",
     "collapsed": false,
     "input": [
      "plot(*forest_areas_parsed['Colombia'])"
     ],
     "language": "python",
     "metadata": {},
     "outputs": [
      {
       "output_type": "pyout",
       "prompt_number": 73,
       "text": [
        "[<matplotlib.lines.Line2D at 0x7e50b6d0>]"
       ]
      },
      {
       "output_type": "display_data",
       "png": "[encoded data removed]"
      }
     ],
     "prompt_number": 73
    },
    {
     "cell_type": "code",
     "collapsed": false,
     "input": [
      "score = ''\n",
      "\n",
      "base_hz = 220\n",
      "ceil_hz = 440\n",
      "\n",
      "initial_year = 1990\n",
      "dur = 0.25\n",
      "\n",
      "num = 20\n",
      "\n",
      "for country,areas in forest_areas_parsed.items()[:num]:\n",
      "    max_areas = max(areas[1])\n",
      "    min_areas = min(areas[1])\n",
      "    #print country\n",
      "    for year, area in zip(*areas):\n",
      "        \n",
      "        area_range = max_areas - min_areas\n",
      "        #print area, area_range\n",
      "        if area_range > 0:\n",
      "            freq = base_hz + ((area - min_areas)/(max_areas - min_areas)) * (ceil_hz - base_hz)\n",
      "            amp = 0.2\n",
      "        else:\n",
      "            freq = 110.0\n",
      "            amp = 0.0001\n",
      "        score += \"i 2 %f %f %f %f\\n\"%((year - initial_year) * dur, dur, amp/num, freq)\n",
      "\n",
      "#cs.ReadScore(score) # too big!"
     ],
     "language": "python",
     "metadata": {},
     "outputs": [],
     "prompt_number": 111
    },
    {
     "cell_type": "code",
     "collapsed": false,
     "input": [
      "cs.ReadScore(score)"
     ],
     "language": "python",
     "metadata": {},
     "outputs": [
      {
       "output_type": "pyout",
       "prompt_number": 116,
       "text": [
        "0"
       ]
      }
     ],
     "prompt_number": 116
    },
    {
     "cell_type": "code",
     "collapsed": false,
     "input": [
      "for country,areas in forest_areas_parsed.items()[:20]:\n",
      "    plot(*areas)"
     ],
     "language": "python",
     "metadata": {},
     "outputs": [
      {
       "output_type": "display_data",
       "png": "[encoded data removed]"
      }
     ],
     "prompt_number": 82
    },
    {
     "cell_type": "code",
     "collapsed": false,
     "input": [
      "score = ''\n",
      "\n",
      "base_hz = 220\n",
      "ceil_hz = 880\n",
      "\n",
      "initial_year = 1990\n",
      "dur = 0.25\n",
      "\n",
      "num = 20\n",
      "\n",
      "max_areas = max(max(areas[1]) for country,areas in forest_areas_parsed.items()[:num])\n",
      "min_areas = min(min(areas[1]) for country,areas in forest_areas_parsed.items()[:num])\n",
      "\n",
      "\n",
      "counter = 0\n",
      "for country,areas in forest_areas_parsed.items()[:num]:\n",
      "    #print country\n",
      "    for year, area in zip(*areas):\n",
      "        local_max_areas = max(areas[1])\n",
      "        local_min_areas = min(areas[1])\n",
      "        area_range = local_max_areas - local_min_areas\n",
      "        #print area, area_range\n",
      "        if area_range > 0:\n",
      "            freq = base_hz + ((area - min_areas)/(max_areas - min_areas)) * (ceil_hz - base_hz)\n",
      "            amp = 0.2\n",
      "        else:\n",
      "            freq = 110.0\n",
      "            amp = 0.01\n",
      "        score += \"i 2 %f %f %f %f\\n\"%((year - initial_year) * dur + counter, dur, amp/num, freq)\n",
      "    counter += 0.5*dur/num\n"
     ],
     "language": "python",
     "metadata": {},
     "outputs": [],
     "prompt_number": 151
    },
    {
     "cell_type": "code",
     "collapsed": false,
     "input": [
      "cs.ReadScore(score)"
     ],
     "language": "python",
     "metadata": {},
     "outputs": [
      {
       "output_type": "pyout",
       "prompt_number": 152,
       "text": [
        "0"
       ]
      }
     ],
     "prompt_number": 152
    },
    {
     "cell_type": "markdown",
     "metadata": {},
     "source": [
      "By: Andr\u00e9s Cabrera mantaraya36@gmail.com\n",
      "\n",
      "For Course MAT 240F at UCSB\n",
      "\n",
      "This ipython notebook is licensed under the CC-BY-NC-SA license: http://creativecommons.org/licenses/by-nc-sa/4.0/\n",
      "\n",
      "![http://i.creativecommons.org/l/by-nc-sa/3.0/88x31.png](http://i.creativecommons.org/l/by-nc-sa/3.0/88x31.png)"
     ]
    }
   ],
   "metadata": {}
  }
 ]
}