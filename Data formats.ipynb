{
 "metadata": {
  "name": "",
  "signature": "sha256:7a2e72e28d410a6c0411432c917e21cbf8ddb67b8bb90a602542188d5c877156"
 },
 "nbformat": 3,
 "nbformat_minor": 0,
 "worksheets": [
  {
   "cells": [
    {
     "cell_type": "code",
     "collapsed": false,
     "input": [
      "%pylab inline"
     ],
     "language": "python",
     "metadata": {},
     "outputs": [
      {
       "output_type": "stream",
       "stream": "stdout",
       "text": [
        "Populating the interactive namespace from numpy and matplotlib\n"
       ]
      }
     ],
     "prompt_number": 1
    },
    {
     "cell_type": "markdown",
     "metadata": {},
     "source": [
      "Common data formats:\n",
      "\n",
      "* JSON\n",
      "* csv\n",
      "* matlab\n",
      "* excel spreadsheets\n",
      "* binary formats\n",
      "* XML\n",
      "* HDF\n",
      "* SQL"
     ]
    },
    {
     "cell_type": "markdown",
     "metadata": {},
     "source": [
      "\n",
      "http://stats.stackexchange.com/questions/27237/what-are-the-most-useful-sources-of-economics-data\n",
      "\n",
      "Will use here:\n",
      "\n",
      "https://research.stlouisfed.org/fred2/"
     ]
    },
    {
     "cell_type": "markdown",
     "metadata": {},
     "source": [
      "#JSON (Javascript object notation)"
     ]
    },
    {
     "cell_type": "markdown",
     "metadata": {},
     "source": [
      "http://www.json.org/\n",
      "\n",
      "* easy for humans to read and write\n",
      "* easy for machines to parse and generate\n",
      "\n"
     ]
    },
    {
     "cell_type": "code",
     "collapsed": false,
     "input": [
      "# Using FRED requires a personal key\n",
      "# To avoid exposing my key, I have it in a separate file\n",
      "from keys import fred_key"
     ],
     "language": "python",
     "metadata": {},
     "outputs": [],
     "prompt_number": 2
    },
    {
     "cell_type": "code",
     "collapsed": false,
     "input": [
      "series_id = 'GNPCA'\n",
      "request_url = 'http://api.stlouisfed.org/fred/series?series_id=' + series_id + '&api_key=' + fred_key + '&file_type=json'\n",
      "\n",
      "import urllib2\n",
      "f = urllib2.urlopen(request_url)\n",
      "data = f.read()\n",
      "data"
     ],
     "language": "python",
     "metadata": {},
     "outputs": [
      {
       "metadata": {},
       "output_type": "pyout",
       "prompt_number": 53,
       "text": [
        "'{\"realtime_start\":\"2016-04-07\",\"realtime_end\":\"2016-04-07\",\"seriess\":[{\"id\":\"GNPCA\",\"realtime_start\":\"2016-04-07\",\"realtime_end\":\"2016-04-07\",\"title\":\"Real Gross National Product\",\"observation_start\":\"1929-01-01\",\"observation_end\":\"2015-01-01\",\"frequency\":\"Annual\",\"frequency_short\":\"A\",\"units\":\"Billions of Chained 2009 Dollars\",\"units_short\":\"Bil. of Chn. 2009 $\",\"seasonal_adjustment\":\"Not Seasonally Adjusted\",\"seasonal_adjustment_short\":\"NSA\",\"last_updated\":\"2016-03-25 07:56:03-05\",\"popularity\":35,\"notes\":\"BEA Account Code: A001RX1\"}]}'"
       ]
      }
     ],
     "prompt_number": 53
    },
    {
     "cell_type": "code",
     "collapsed": false,
     "input": [
      "import json\n",
      "json_data = json.loads(data)"
     ],
     "language": "python",
     "metadata": {},
     "outputs": [],
     "prompt_number": 54
    },
    {
     "cell_type": "code",
     "collapsed": false,
     "input": [
      "type(json_data)"
     ],
     "language": "python",
     "metadata": {},
     "outputs": [
      {
       "metadata": {},
       "output_type": "pyout",
       "prompt_number": 55,
       "text": [
        "dict"
       ]
      }
     ],
     "prompt_number": 55
    },
    {
     "cell_type": "code",
     "collapsed": false,
     "input": [
      "json_data.keys()"
     ],
     "language": "python",
     "metadata": {},
     "outputs": [
      {
       "metadata": {},
       "output_type": "pyout",
       "prompt_number": 56,
       "text": [
        "[u'seriess', u'realtime_start', u'realtime_end']"
       ]
      }
     ],
     "prompt_number": 56
    },
    {
     "cell_type": "code",
     "collapsed": false,
     "input": [
      "json_data[u'realtime_start'], json_data[u'realtime_end']"
     ],
     "language": "python",
     "metadata": {},
     "outputs": [
      {
       "metadata": {},
       "output_type": "pyout",
       "prompt_number": 57,
       "text": [
        "(u'2016-04-07', u'2016-04-07')"
       ]
      }
     ],
     "prompt_number": 57
    },
    {
     "cell_type": "code",
     "collapsed": false,
     "input": [
      "json_data[u'seriess']"
     ],
     "language": "python",
     "metadata": {},
     "outputs": [
      {
       "metadata": {},
       "output_type": "pyout",
       "prompt_number": 58,
       "text": [
        "[{u'frequency': u'Annual',\n",
        "  u'frequency_short': u'A',\n",
        "  u'id': u'GNPCA',\n",
        "  u'last_updated': u'2016-03-25 07:56:03-05',\n",
        "  u'notes': u'BEA Account Code: A001RX1',\n",
        "  u'observation_end': u'2015-01-01',\n",
        "  u'observation_start': u'1929-01-01',\n",
        "  u'popularity': 35,\n",
        "  u'realtime_end': u'2016-04-07',\n",
        "  u'realtime_start': u'2016-04-07',\n",
        "  u'seasonal_adjustment': u'Not Seasonally Adjusted',\n",
        "  u'seasonal_adjustment_short': u'NSA',\n",
        "  u'title': u'Real Gross National Product',\n",
        "  u'units': u'Billions of Chained 2009 Dollars',\n",
        "  u'units_short': u'Bil. of Chn. 2009 $'}]"
       ]
      }
     ],
     "prompt_number": 58
    },
    {
     "cell_type": "markdown",
     "metadata": {},
     "source": [
      "Other series:\n",
      "https://research.stlouisfed.org/fred2/tags/series \n",
      "    \n",
      "\n",
      "API docs:    \n",
      "https://research.stlouisfed.org/docs/api/fred/\n",
      "\n",
      "Now let's get some data:"
     ]
    },
    {
     "cell_type": "code",
     "collapsed": false,
     "input": [
      "request_url = 'http://api.stlouisfed.org/fred/series/observations?series_id=' + series_id + '&api_key=' + fred_key + '&file_type=json'\n",
      "\n",
      "import urllib2\n",
      "f = urllib2.urlopen(request_url)\n",
      "data = f.read()"
     ],
     "language": "python",
     "metadata": {},
     "outputs": [],
     "prompt_number": 59
    },
    {
     "cell_type": "code",
     "collapsed": false,
     "input": [
      "json_data = json.loads(data)\n",
      "json_data.keys()"
     ],
     "language": "python",
     "metadata": {},
     "outputs": [
      {
       "metadata": {},
       "output_type": "pyout",
       "prompt_number": 60,
       "text": [
        "[u'count',\n",
        " u'order_by',\n",
        " u'observation_start',\n",
        " u'file_type',\n",
        " u'observation_end',\n",
        " u'realtime_end',\n",
        " u'sort_order',\n",
        " u'limit',\n",
        " u'observations',\n",
        " u'offset',\n",
        " u'units',\n",
        " u'output_type',\n",
        " u'realtime_start']"
       ]
      }
     ],
     "prompt_number": 60
    },
    {
     "cell_type": "code",
     "collapsed": false,
     "input": [
      "json_data[u'count'],json_data[u'order_by'], json_data[u'observation_start'], json_data[ u'file_type'], json_data[ u'observation_end']"
     ],
     "language": "python",
     "metadata": {},
     "outputs": [
      {
       "metadata": {},
       "output_type": "pyout",
       "prompt_number": 61,
       "text": [
        "(87, u'observation_date', u'1776-07-04', u'json', u'9999-12-31')"
       ]
      }
     ],
     "prompt_number": 61
    },
    {
     "cell_type": "code",
     "collapsed": false,
     "input": [
      "json_data[u'realtime_start'], json_data[u'realtime_end'], json_data[u'sort_order'], json_data[u'limit'], json_data[u'offset']"
     ],
     "language": "python",
     "metadata": {},
     "outputs": [
      {
       "metadata": {},
       "output_type": "pyout",
       "prompt_number": 62,
       "text": [
        "(u'2016-04-07', u'2016-04-07', u'asc', 100000, 0)"
       ]
      }
     ],
     "prompt_number": 62
    },
    {
     "cell_type": "code",
     "collapsed": false,
     "input": [
      "json_data[u'output_type'],  json_data[u'units']"
     ],
     "language": "python",
     "metadata": {},
     "outputs": [
      {
       "metadata": {},
       "output_type": "pyout",
       "prompt_number": 63,
       "text": [
        "(1, u'lin')"
       ]
      }
     ],
     "prompt_number": 63
    },
    {
     "cell_type": "code",
     "collapsed": false,
     "input": [
      "values = []\n",
      "\n",
      "for o in json_data['observations']:\n",
      "    values.append(float(o['value']))\n"
     ],
     "language": "python",
     "metadata": {},
     "outputs": [],
     "prompt_number": 64
    },
    {
     "cell_type": "markdown",
     "metadata": {},
     "source": [
      "Should use something like the pandas module to ensure the data is consistent (e.g. the time series is equally spaced, ordered and there are no mising time values)"
     ]
    },
    {
     "cell_type": "code",
     "collapsed": false,
     "input": [
      "plot(values)"
     ],
     "language": "python",
     "metadata": {},
     "outputs": [
      {
       "metadata": {},
       "output_type": "pyout",
       "prompt_number": 65,
       "text": [
        "[<matplotlib.lines.Line2D at 0x7f72f0036ad0>]"
       ]
      },
      {
       "metadata": {},
       "output_type": "display_data",
       "png": "[encoded data removed]",
       "text": [
        "<matplotlib.figure.Figure at 0x7f72f0d173d0>"
       ]
      }
     ],
     "prompt_number": 65
    },
    {
     "cell_type": "code",
     "collapsed": false,
     "input": [
      "f = open('../shared/gnpca.txt', 'w')\n",
      "\n",
      "for v in values:\n",
      "    f.write(str(v) + '\\n')\n",
      "    \n",
      "f.close()"
     ],
     "language": "python",
     "metadata": {},
     "outputs": [],
     "prompt_number": 66
    },
    {
     "cell_type": "markdown",
     "metadata": {},
     "source": [
      "Other sets:"
     ]
    },
    {
     "cell_type": "code",
     "collapsed": false,
     "input": [
      "series_id = 'UNRATE'\n",
      "\n",
      "request_url = 'http://api.stlouisfed.org/fred/series/observations?series_id=' + series_id + '&api_key=' + fred_key + '&file_type=json'\n",
      "\n",
      "f = urllib2.urlopen(request_url)\n",
      "data = f.read()\n",
      "json_data = json.loads(data)\n",
      "\n",
      "values = []\n",
      "for o in json_data['observations']:\n",
      "    values.append(float(o['value']))\n",
      "    \n",
      "plot(values)"
     ],
     "language": "python",
     "metadata": {},
     "outputs": [
      {
       "metadata": {},
       "output_type": "pyout",
       "prompt_number": 67,
       "text": [
        "[<matplotlib.lines.Line2D at 0x7f72e9dabc10>]"
       ]
      },
      {
       "metadata": {},
       "output_type": "display_data",
       "png": "[encoded data removed]",
       "text": [
        "<matplotlib.figure.Figure at 0x7f72f0bfd190>"
       ]
      }
     ],
     "prompt_number": 67
    },
    {
     "cell_type": "code",
     "collapsed": false,
     "input": [
      "f = open('../shared/unrate.txt', 'w')\n",
      "\n",
      "for v in values:\n",
      "    f.write(str(v) + '\\n')\n",
      "    \n",
      "f.close()"
     ],
     "language": "python",
     "metadata": {},
     "outputs": [],
     "prompt_number": 68
    },
    {
     "cell_type": "code",
     "collapsed": false,
     "input": [
      "series_id = 'GS10'\n",
      "\n",
      "request_url = 'http://api.stlouisfed.org/fred/series/observations?series_id=' + series_id + '&api_key=' + fred_key + '&file_type=json'\n",
      "\n",
      "f = urllib2.urlopen(request_url)\n",
      "data = f.read()\n",
      "json_data = json.loads(data)\n",
      "\n",
      "values = []\n",
      "for o in json_data['observations']:\n",
      "    values.append(float(o['value']))\n",
      "    \n",
      "plot(values)"
     ],
     "language": "python",
     "metadata": {},
     "outputs": [
      {
       "metadata": {},
       "output_type": "pyout",
       "prompt_number": 69,
       "text": [
        "[<matplotlib.lines.Line2D at 0x7f72e9ce65d0>]"
       ]
      },
      {
       "metadata": {},
       "output_type": "display_data",
       "png": "[encoded data removed]",
       "text": [
        "<matplotlib.figure.Figure at 0x7f72e9dca5d0>"
       ]
      }
     ],
     "prompt_number": 69
    },
    {
     "cell_type": "code",
     "collapsed": false,
     "input": [
      "f = open('../shared/gs10.txt', 'w')\n",
      "\n",
      "for v in values:\n",
      "    f.write(str(v) + '\\n')\n",
      "    \n",
      "f.close()"
     ],
     "language": "python",
     "metadata": {},
     "outputs": [],
     "prompt_number": 70
    },
    {
     "cell_type": "markdown",
     "metadata": {},
     "source": [
      "#CSV (Comma Separated Values)"
     ]
    },
    {
     "cell_type": "code",
     "collapsed": false,
     "input": [
      "request_url = 'http://ichart.finance.yahoo.com/table.csv?s=^GSPC&ignore=.csv'\n",
      "\n",
      "f = urllib2.urlopen(request_url)\n",
      "data = f.read()"
     ],
     "language": "python",
     "metadata": {},
     "outputs": [],
     "prompt_number": 21
    },
    {
     "cell_type": "code",
     "collapsed": false,
     "input": [
      "import csv\n",
      "parsed_csv = csv.reader(data.split('\\n'))"
     ],
     "language": "python",
     "metadata": {},
     "outputs": [],
     "prompt_number": 22
    },
    {
     "cell_type": "code",
     "collapsed": false,
     "input": [
      "type(parsed_csv)"
     ],
     "language": "python",
     "metadata": {},
     "outputs": [
      {
       "metadata": {},
       "output_type": "pyout",
       "prompt_number": 23,
       "text": [
        "_csv.reader"
       ]
      }
     ],
     "prompt_number": 23
    },
    {
     "cell_type": "code",
     "collapsed": false,
     "input": [
      "parsed_csv.next()"
     ],
     "language": "python",
     "metadata": {},
     "outputs": [
      {
       "metadata": {},
       "output_type": "pyout",
       "prompt_number": 24,
       "text": [
        "['Date', 'Open', 'High', 'Low', 'Close', 'Volume', 'Adj Close']"
       ]
      }
     ],
     "prompt_number": 24
    },
    {
     "cell_type": "code",
     "collapsed": false,
     "input": [
      "parsed_csv.next()"
     ],
     "language": "python",
     "metadata": {},
     "outputs": [
      {
       "metadata": {},
       "output_type": "pyout",
       "prompt_number": 25,
       "text": [
        "['2016-04-06',\n",
        " '2045.560059',\n",
        " '2067.330078',\n",
        " '2043.089966',\n",
        " '2066.659912',\n",
        " '3750800000',\n",
        " '2066.659912']"
       ]
      }
     ],
     "prompt_number": 25
    },
    {
     "cell_type": "code",
     "collapsed": false,
     "input": [
      "parsed_csv.next()"
     ],
     "language": "python",
     "metadata": {},
     "outputs": [
      {
       "metadata": {},
       "output_type": "pyout",
       "prompt_number": 26,
       "text": [
        "['2016-04-05',\n",
        " '2062.50',\n",
        " '2062.50',\n",
        " '2042.560059',\n",
        " '2045.170044',\n",
        " '4154920000',\n",
        " '2045.170044']"
       ]
      }
     ],
     "prompt_number": 26
    },
    {
     "cell_type": "code",
     "collapsed": false,
     "input": [
      "highs = []\n",
      "for row in parsed_csv:\n",
      "    if len(row) > 0:\n",
      "        highs.append(float(row[2]))"
     ],
     "language": "python",
     "metadata": {},
     "outputs": [],
     "prompt_number": 27
    },
    {
     "cell_type": "code",
     "collapsed": false,
     "input": [
      "plot(highs)"
     ],
     "language": "python",
     "metadata": {},
     "outputs": [
      {
       "metadata": {},
       "output_type": "pyout",
       "prompt_number": 28,
       "text": [
        "[<matplotlib.lines.Line2D at 0x7f72f0a464d0>]"
       ]
      },
      {
       "metadata": {},
       "output_type": "display_data",
       "png": "[encoded data removed]",
       "text": [
        "<matplotlib.figure.Figure at 0x7f72f0dca590>"
       ]
      }
     ],
     "prompt_number": 28
    },
    {
     "cell_type": "markdown",
     "metadata": {},
     "source": [
      "https://finance.yahoo.com/echarts?s=^GSPC+Interactive#{%22range%22:%22max%22,%22allowChartStacking%22:true}\n"
     ]
    },
    {
     "cell_type": "code",
     "collapsed": false,
     "input": [
      "plot(highs[::-1])"
     ],
     "language": "python",
     "metadata": {},
     "outputs": [
      {
       "metadata": {},
       "output_type": "pyout",
       "prompt_number": 29,
       "text": [
        "[<matplotlib.lines.Line2D at 0x7f72f0bf08d0>]"
       ]
      },
      {
       "metadata": {},
       "output_type": "display_data",
       "png": "[encoded data removed]",
       "text": [
        "<matplotlib.figure.Figure at 0x7f72f0a5e750>"
       ]
      }
     ],
     "prompt_number": 29
    },
    {
     "cell_type": "markdown",
     "metadata": {},
     "source": [
      "#MATLAB matrix format"
     ]
    },
    {
     "cell_type": "markdown",
     "metadata": {},
     "source": [
      "A long list of datasets:\n",
      "http://www.models.life.ku.dk/datasets"
     ]
    },
    {
     "cell_type": "code",
     "collapsed": false,
     "input": [
      "import urllib\n",
      "urllib.urlretrieve('http://www.eigenvector.com/data/Corn/corn.mat', 'corn.mat')"
     ],
     "language": "python",
     "metadata": {},
     "outputs": [
      {
       "metadata": {},
       "output_type": "pyout",
       "prompt_number": 30,
       "text": [
        "('corn.mat', <httplib.HTTPMessage instance at 0x7f72f30060e0>)"
       ]
      }
     ],
     "prompt_number": 30
    },
    {
     "cell_type": "markdown",
     "metadata": {},
     "source": [
      "http://www.eigenvector.com/data/Corn/index.html"
     ]
    },
    {
     "cell_type": "code",
     "collapsed": false,
     "input": [
      "from scipy.io import loadmat\n",
      "corn = loadmat('corn.mat')"
     ],
     "language": "python",
     "metadata": {},
     "outputs": [],
     "prompt_number": 31
    },
    {
     "cell_type": "code",
     "collapsed": false,
     "input": [
      "type(corn)"
     ],
     "language": "python",
     "metadata": {},
     "outputs": [
      {
       "metadata": {},
       "output_type": "pyout",
       "prompt_number": 32,
       "text": [
        "dict"
       ]
      }
     ],
     "prompt_number": 32
    },
    {
     "cell_type": "code",
     "collapsed": false,
     "input": [
      "corn.keys()"
     ],
     "language": "python",
     "metadata": {},
     "outputs": [
      {
       "metadata": {},
       "output_type": "pyout",
       "prompt_number": 33,
       "text": [
        "['mp6nbs',\n",
        " 'information',\n",
        " 'propvals',\n",
        " '__globals__',\n",
        " 'm5nbs',\n",
        " 'mp6spec',\n",
        " 'm5spec',\n",
        " 'mp5spec',\n",
        " '__header__',\n",
        " '__version__',\n",
        " 'mp5nbs']"
       ]
      }
     ],
     "prompt_number": 33
    },
    {
     "cell_type": "code",
     "collapsed": false,
     "input": [
      "corn['mp6spec'][0][0][7]"
     ],
     "language": "python",
     "metadata": {},
     "outputs": [
      {
       "metadata": {},
       "output_type": "pyout",
       "prompt_number": 34,
       "text": [
        "array([[-0.0227014, -0.0228025, -0.0228795, ...,  0.675079 ,  0.674679 ,\n",
        "         0.674056 ],\n",
        "       [-0.0219211, -0.0220554, -0.0221607, ...,  0.682942 ,  0.682648 ,\n",
        "         0.682164 ],\n",
        "       [-0.0208596, -0.0209931, -0.0211072, ...,  0.652276 ,  0.651984 ,\n",
        "         0.651517 ],\n",
        "       ..., \n",
        "       [-0.0178645, -0.0179813, -0.0180715, ...,  0.695484 ,  0.695075 ,\n",
        "         0.694381 ],\n",
        "       [-0.0067957, -0.0068881, -0.0069559, ...,  0.690173 ,  0.689855 ,\n",
        "         0.689125 ],\n",
        "       [-0.0152611, -0.0153799, -0.0154608, ...,  0.703188 ,  0.70277  ,\n",
        "         0.702071 ]])"
       ]
      }
     ],
     "prompt_number": 34
    },
    {
     "cell_type": "code",
     "collapsed": false,
     "input": [
      "plot(corn['mp6spec'][0][0][7][0,:])"
     ],
     "language": "python",
     "metadata": {},
     "outputs": [
      {
       "metadata": {},
       "output_type": "pyout",
       "prompt_number": 35,
       "text": [
        "[<matplotlib.lines.Line2D at 0x7f72f08f7190>]"
       ]
      },
      {
       "metadata": {},
       "output_type": "display_data",
       "png": "[encoded data removed]",
       "text": [
        "<matplotlib.figure.Figure at 0x7f72f09e6e90>"
       ]
      }
     ],
     "prompt_number": 35
    },
    {
     "cell_type": "markdown",
     "metadata": {},
     "source": [
      "#Excel sheets"
     ]
    },
    {
     "cell_type": "markdown",
     "metadata": {},
     "source": [
      "Various ways to open excel sheets in python:\n",
      "    \n",
      "http://stackoverflow.com/questions/3239207/how-can-i-open-an-excel-file-in-python"
     ]
    },
    {
     "cell_type": "markdown",
     "metadata": {},
     "source": [
      "#Binary formats"
     ]
    },
    {
     "cell_type": "markdown",
     "metadata": {},
     "source": [
      "Data can be encoded \"raw\" in a file. i.e. the file just contains bytes that are copied directly into memory. The user must know the format and data type of the data"
     ]
    },
    {
     "cell_type": "code",
     "collapsed": false,
     "input": [
      "fib = [1,1,2,3,5,8,13]"
     ],
     "language": "python",
     "metadata": {},
     "outputs": [],
     "prompt_number": 36
    },
    {
     "cell_type": "code",
     "collapsed": false,
     "input": [
      "import struct\n",
      "enc = struct.pack('i', 10)\n",
      "enc"
     ],
     "language": "python",
     "metadata": {},
     "outputs": [
      {
       "metadata": {},
       "output_type": "pyout",
       "prompt_number": 37,
       "text": [
        "'\\n\\x00\\x00\\x00'"
       ]
      }
     ],
     "prompt_number": 37
    },
    {
     "cell_type": "code",
     "collapsed": false,
     "input": [
      "hex(10)"
     ],
     "language": "python",
     "metadata": {},
     "outputs": [
      {
       "metadata": {},
       "output_type": "pyout",
       "prompt_number": 38,
       "text": [
        "'0xa'"
       ]
      }
     ],
     "prompt_number": 38
    },
    {
     "cell_type": "code",
     "collapsed": false,
     "input": [
      "chr(10)"
     ],
     "language": "python",
     "metadata": {},
     "outputs": [
      {
       "metadata": {},
       "output_type": "pyout",
       "prompt_number": 39,
       "text": [
        "'\\n'"
       ]
      }
     ],
     "prompt_number": 39
    },
    {
     "cell_type": "code",
     "collapsed": false,
     "input": [
      "len(enc)"
     ],
     "language": "python",
     "metadata": {},
     "outputs": [
      {
       "metadata": {},
       "output_type": "pyout",
       "prompt_number": 40,
       "text": [
        "4"
       ]
      }
     ],
     "prompt_number": 40
    },
    {
     "cell_type": "code",
     "collapsed": false,
     "input": [
      "ord('\\n'), ord('a')"
     ],
     "language": "python",
     "metadata": {},
     "outputs": [
      {
       "metadata": {},
       "output_type": "pyout",
       "prompt_number": 41,
       "text": [
        "(10, 97)"
       ]
      }
     ],
     "prompt_number": 41
    },
    {
     "cell_type": "code",
     "collapsed": false,
     "input": [
      "'i'*len(fib)"
     ],
     "language": "python",
     "metadata": {},
     "outputs": [
      {
       "metadata": {},
       "output_type": "pyout",
       "prompt_number": 42,
       "text": [
        "'iiiiiii'"
       ]
      }
     ],
     "prompt_number": 42
    },
    {
     "cell_type": "code",
     "collapsed": false,
     "input": [
      "bytes = struct.pack('i'*len(fib), *fib)"
     ],
     "language": "python",
     "metadata": {},
     "outputs": [],
     "prompt_number": 43
    },
    {
     "cell_type": "code",
     "collapsed": false,
     "input": [
      "bytes"
     ],
     "language": "python",
     "metadata": {},
     "outputs": [
      {
       "metadata": {},
       "output_type": "pyout",
       "prompt_number": 44,
       "text": [
        "'\\x01\\x00\\x00\\x00\\x01\\x00\\x00\\x00\\x02\\x00\\x00\\x00\\x03\\x00\\x00\\x00\\x05\\x00\\x00\\x00\\x08\\x00\\x00\\x00\\r\\x00\\x00\\x00'"
       ]
      }
     ],
     "prompt_number": 44
    },
    {
     "cell_type": "code",
     "collapsed": false,
     "input": [
      "fib = struct.unpack('iiiiiii', bytes)"
     ],
     "language": "python",
     "metadata": {},
     "outputs": [],
     "prompt_number": 45
    },
    {
     "cell_type": "code",
     "collapsed": false,
     "input": [
      "fib"
     ],
     "language": "python",
     "metadata": {},
     "outputs": [
      {
       "metadata": {},
       "output_type": "pyout",
       "prompt_number": 46,
       "text": [
        "(1, 1, 2, 3, 5, 8, 13)"
       ]
      }
     ],
     "prompt_number": 46
    },
    {
     "cell_type": "code",
     "collapsed": false,
     "input": [
      "fib_f = struct.unpack('fffffff', bytes)"
     ],
     "language": "python",
     "metadata": {},
     "outputs": [],
     "prompt_number": 47
    },
    {
     "cell_type": "code",
     "collapsed": false,
     "input": [
      "fib_f"
     ],
     "language": "python",
     "metadata": {},
     "outputs": [
      {
       "metadata": {},
       "output_type": "pyout",
       "prompt_number": 48,
       "text": [
        "(1.401298464324817e-45,\n",
        " 1.401298464324817e-45,\n",
        " 2.802596928649634e-45,\n",
        " 4.203895392974451e-45,\n",
        " 7.006492321624085e-45,\n",
        " 1.1210387714598537e-44,\n",
        " 1.8216880036222622e-44)"
       ]
      }
     ],
     "prompt_number": 48
    },
    {
     "cell_type": "code",
     "collapsed": false,
     "input": [
      "bytes = struct.pack('f'*len(fib), *fib)"
     ],
     "language": "python",
     "metadata": {},
     "outputs": [],
     "prompt_number": 49
    },
    {
     "cell_type": "code",
     "collapsed": false,
     "input": [
      "bytes"
     ],
     "language": "python",
     "metadata": {},
     "outputs": [
      {
       "metadata": {},
       "output_type": "pyout",
       "prompt_number": 50,
       "text": [
        "'\\x00\\x00\\x80?\\x00\\x00\\x80?\\x00\\x00\\x00@\\x00\\x00@@\\x00\\x00\\xa0@\\x00\\x00\\x00A\\x00\\x00PA'"
       ]
      }
     ],
     "prompt_number": 50
    },
    {
     "cell_type": "code",
     "collapsed": false,
     "input": [
      "fib_f = struct.unpack('fffffff', bytes)"
     ],
     "language": "python",
     "metadata": {},
     "outputs": [],
     "prompt_number": 51
    },
    {
     "cell_type": "code",
     "collapsed": false,
     "input": [
      "fib_f"
     ],
     "language": "python",
     "metadata": {},
     "outputs": [
      {
       "metadata": {},
       "output_type": "pyout",
       "prompt_number": 52,
       "text": [
        "(1.0, 1.0, 2.0, 3.0, 5.0, 8.0, 13.0)"
       ]
      }
     ],
     "prompt_number": 52
    },
    {
     "cell_type": "markdown",
     "metadata": {},
     "source": [
      "#XML"
     ]
    },
    {
     "cell_type": "markdown",
     "metadata": {},
     "source": [
      "[Earthquake XML.ipynb](Earthquake XML.ipynb)"
     ]
    },
    {
     "cell_type": "markdown",
     "metadata": {},
     "source": [
      "#HDF (Hierarchical Data Format)"
     ]
    },
    {
     "cell_type": "markdown",
     "metadata": {},
     "source": [
      "https://www.hdfgroup.org/\n",
      "\n",
      "Common format for \"big data\". Specifically designed for large multi-dimensional data sets.\n",
      "\n",
      "https://www.hdfgroup.org/tools/"
     ]
    },
    {
     "cell_type": "markdown",
     "metadata": {},
     "source": [
      "#SQL (Structured Query Language)"
     ]
    },
    {
     "cell_type": "markdown",
     "metadata": {},
     "source": [
      "Several options depending on need:\n",
      "\n",
      "https://docs.python.org/2/library/sqlite3.html\n",
      "\n"
     ]
    },
    {
     "cell_type": "markdown",
     "metadata": {},
     "source": [
      "---------------------------------"
     ]
    },
    {
     "cell_type": "markdown",
     "metadata": {},
     "source": [
      "By: Andr\u00e9s Cabrera mantaraya36@gmail.com\n",
      "\n",
      "For Course MAT 240F at UCSB\n",
      "\n",
      "This ipython notebook is licensed under the CC-BY-NC-SA license: http://creativecommons.org/licenses/by-nc-sa/4.0/\n",
      "\n",
      "![http://i.creativecommons.org/l/by-nc-sa/3.0/88x31.png](http://i.creativecommons.org/l/by-nc-sa/3.0/88x31.png)"
     ]
    }
   ],
   "metadata": {}
  }
 ]
}