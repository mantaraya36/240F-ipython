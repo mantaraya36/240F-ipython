{
 "metadata": {
  "name": "Data processing for sonification-JSON"
 },
 "nbformat": 3,
 "nbformat_minor": 0,
 "worksheets": [
  {
   "cells": [
    {
     "cell_type": "markdown",
     "metadata": {},
     "source": [
      "http://stats.stackexchange.com/questions/27237/what-are-the-most-useful-sources-of-economics-data\n",
      "\n",
      "https://research.stlouisfed.org/fred2/"
     ]
    },
    {
     "cell_type": "code",
     "collapsed": false,
     "input": [
      "from keys import fred_key\n",
      "\n",
      "series_id = 'GNPCA'\n",
      "request_url = 'http://api.stlouisfed.org/fred/series?series_id=' + series_id + '&api_key=' + fred_key + '&file_type=json'\n",
      "\n",
      "import urllib2\n",
      "f = urllib2.urlopen(request_url)\n",
      "data = f.read()\n",
      "data"
     ],
     "language": "python",
     "metadata": {},
     "outputs": [
      {
       "output_type": "pyout",
       "prompt_number": 1,
       "text": [
        "'{\"realtime_start\":\"2014-04-07\",\"realtime_end\":\"2014-04-07\",\"seriess\":[{\"id\":\"GNPCA\",\"realtime_start\":\"2014-04-07\",\"realtime_end\":\"2014-04-07\",\"title\":\"Real Gross National Product\",\"observation_start\":\"1929-01-01\",\"observation_end\":\"2013-01-01\",\"frequency\":\"Annual\",\"frequency_short\":\"A\",\"units\":\"Billions of Chained 2009 Dollars\",\"units_short\":\"Bil. of Chn. 2009 $\",\"seasonal_adjustment\":\"Not Seasonally Adjusted\",\"seasonal_adjustment_short\":\"NSA\",\"last_updated\":\"2014-03-27 08:01:12-05\",\"popularity\":38,\"notes\":\"BEA Account Code: A001RX1\"}]}'"
       ]
      }
     ],
     "prompt_number": 1
    },
    {
     "cell_type": "code",
     "collapsed": false,
     "input": [
      "request_url = 'http://api.stlouisfed.org/fred/series/observations?series_id=' + series_id + '&api_key=' + fred_key + '&file_type=json'\n",
      "\n",
      "import urllib2\n",
      "f = urllib2.urlopen(request_url)\n",
      "data = f.read()"
     ],
     "language": "python",
     "metadata": {},
     "outputs": [],
     "prompt_number": 2
    },
    {
     "cell_type": "code",
     "collapsed": false,
     "input": [
      "data"
     ],
     "language": "python",
     "metadata": {},
     "outputs": [
      {
       "output_type": "pyout",
       "prompt_number": 3,
       "text": [
        "'{\"realtime_start\":\"2014-04-07\",\"realtime_end\":\"2014-04-07\",\"observation_start\":\"1776-07-04\",\"observation_end\":\"9999-12-31\",\"units\":\"lin\",\"output_type\":1,\"file_type\":\"json\",\"order_by\":\"observation_date\",\"sort_order\":\"asc\",\"count\":85,\"offset\":0,\"limit\":100000,\"observations\":[{\"realtime_start\":\"2014-04-07\",\"realtime_end\":\"2014-04-07\",\"date\":\"1929-01-01\",\"value\":\"1065.9\"},{\"realtime_start\":\"2014-04-07\",\"realtime_end\":\"2014-04-07\",\"date\":\"1930-01-01\",\"value\":\"975.5\"},{\"realtime_start\":\"2014-04-07\",\"realtime_end\":\"2014-04-07\",\"date\":\"1931-01-01\",\"value\":\"912.1\"},{\"realtime_start\":\"2014-04-07\",\"realtime_end\":\"2014-04-07\",\"date\":\"1932-01-01\",\"value\":\"794.1\"},{\"realtime_start\":\"2014-04-07\",\"realtime_end\":\"2014-04-07\",\"date\":\"1933-01-01\",\"value\":\"783.3\"},{\"realtime_start\":\"2014-04-07\",\"realtime_end\":\"2014-04-07\",\"date\":\"1934-01-01\",\"value\":\"866.7\"},{\"realtime_start\":\"2014-04-07\",\"realtime_end\":\"2014-04-07\",\"date\":\"1935-01-01\",\"value\":\"944.3\"},{\"realtime_start\":\"2014-04-07\",\"realtime_end\":\"2014-04-07\",\"date\":\"1936-01-01\",\"value\":\"1065.0\"},{\"realtime_start\":\"2014-04-07\",\"realtime_end\":\"2014-04-07\",\"date\":\"1937-01-01\",\"value\":\"1120.6\"},{\"realtime_start\":\"2014-04-07\",\"realtime_end\":\"2014-04-07\",\"date\":\"1938-01-01\",\"value\":\"1083.9\"},{\"realtime_start\":\"2014-04-07\",\"realtime_end\":\"2014-04-07\",\"date\":\"1939-01-01\",\"value\":\"1170.2\"},{\"realtime_start\":\"2014-04-07\",\"realtime_end\":\"2014-04-07\",\"date\":\"1940-01-01\",\"value\":\"1271.7\"},{\"realtime_start\":\"2014-04-07\",\"realtime_end\":\"2014-04-07\",\"date\":\"1941-01-01\",\"value\":\"1497.6\"},{\"realtime_start\":\"2014-04-07\",\"realtime_end\":\"2014-04-07\",\"date\":\"1942-01-01\",\"value\":\"1779.4\"},{\"realtime_start\":\"2014-04-07\",\"realtime_end\":\"2014-04-07\",\"date\":\"1943-01-01\",\"value\":\"2081.2\"},{\"realtime_start\":\"2014-04-07\",\"realtime_end\":\"2014-04-07\",\"date\":\"1944-01-01\",\"value\":\"2247.3\"},{\"realtime_start\":\"2014-04-07\",\"realtime_end\":\"2014-04-07\",\"date\":\"1945-01-01\",\"value\":\"2224.7\"},{\"realtime_start\":\"2014-04-07\",\"realtime_end\":\"2014-04-07\",\"date\":\"1946-01-01\",\"value\":\"1969.3\"},{\"realtime_start\":\"2014-04-07\",\"realtime_end\":\"2014-04-07\",\"date\":\"1947-01-01\",\"value\":\"1950.6\"},{\"realtime_start\":\"2014-04-07\",\"realtime_end\":\"2014-04-07\",\"date\":\"1948-01-01\",\"value\":\"2033.2\"},{\"realtime_start\":\"2014-04-07\",\"realtime_end\":\"2014-04-07\",\"date\":\"1949-01-01\",\"value\":\"2021.1\"},{\"realtime_start\":\"2014-04-07\",\"realtime_end\":\"2014-04-07\",\"date\":\"1950-01-01\",\"value\":\"2197.5\"},{\"realtime_start\":\"2014-04-07\",\"realtime_end\":\"2014-04-07\",\"date\":\"1951-01-01\",\"value\":\"2376.4\"},{\"realtime_start\":\"2014-04-07\",\"realtime_end\":\"2014-04-07\",\"date\":\"1952-01-01\",\"value\":\"2473.1\"},{\"realtime_start\":\"2014-04-07\",\"realtime_end\":\"2014-04-07\",\"date\":\"1953-01-01\",\"value\":\"2587.7\"},{\"realtime_start\":\"2014-04-07\",\"realtime_end\":\"2014-04-07\",\"date\":\"1954-01-01\",\"value\":\"2574.2\"},{\"realtime_start\":\"2014-04-07\",\"realtime_end\":\"2014-04-07\",\"date\":\"1955-01-01\",\"value\":\"2758.4\"},{\"realtime_start\":\"2014-04-07\",\"realtime_end\":\"2014-04-07\",\"date\":\"1956-01-01\",\"value\":\"2818.6\"},{\"realtime_start\":\"2014-04-07\",\"realtime_end\":\"2014-04-07\",\"date\":\"1957-01-01\",\"value\":\"2878.5\"},{\"realtime_start\":\"2014-04-07\",\"realtime_end\":\"2014-04-07\",\"date\":\"1958-01-01\",\"value\":\"2854.6\"},{\"realtime_start\":\"2014-04-07\",\"realtime_end\":\"2014-04-07\",\"date\":\"1959-01-01\",\"value\":\"3050.8\"},{\"realtime_start\":\"2014-04-07\",\"realtime_end\":\"2014-04-07\",\"date\":\"1960-01-01\",\"value\":\"3130.4\"},{\"realtime_start\":\"2014-04-07\",\"realtime_end\":\"2014-04-07\",\"date\":\"1961-01-01\",\"value\":\"3211.9\"},{\"realtime_start\":\"2014-04-07\",\"realtime_end\":\"2014-04-07\",\"date\":\"1962-01-01\",\"value\":\"3409.8\"},{\"realtime_start\":\"2014-04-07\",\"realtime_end\":\"2014-04-07\",\"date\":\"1963-01-01\",\"value\":\"3559.0\"},{\"realtime_start\":\"2014-04-07\",\"realtime_end\":\"2014-04-07\",\"date\":\"1964-01-01\",\"value\":\"3764.8\"},{\"realtime_start\":\"2014-04-07\",\"realtime_end\":\"2014-04-07\",\"date\":\"1965-01-01\",\"value\":\"4008.8\"},{\"realtime_start\":\"2014-04-07\",\"realtime_end\":\"2014-04-07\",\"date\":\"1966-01-01\",\"value\":\"4269.4\"},{\"realtime_start\":\"2014-04-07\",\"realtime_end\":\"2014-04-07\",\"date\":\"1967-01-01\",\"value\":\"4386.7\"},{\"realtime_start\":\"2014-04-07\",\"realtime_end\":\"2014-04-07\",\"date\":\"1968-01-01\",\"value\":\"4602.8\"},{\"realtime_start\":\"2014-04-07\",\"realtime_end\":\"2014-04-07\",\"date\":\"1969-01-01\",\"value\":\"4745.2\"},{\"realtime_start\":\"2014-04-07\",\"realtime_end\":\"2014-04-07\",\"date\":\"1970-01-01\",\"value\":\"4754.6\"},{\"realtime_start\":\"2014-04-07\",\"realtime_end\":\"2014-04-07\",\"date\":\"1971-01-01\",\"value\":\"4913.6\"},{\"realtime_start\":\"2014-04-07\",\"realtime_end\":\"2014-04-07\",\"date\":\"1972-01-01\",\"value\":\"5172.2\"},{\"realtime_start\":\"2014-04-07\",\"realtime_end\":\"2014-04-07\",\"date\":\"1973-01-01\",\"value\":\"5475.1\"},{\"realtime_start\":\"2014-04-07\",\"realtime_end\":\"2014-04-07\",\"date\":\"1974-01-01\",\"value\":\"5454.1\"},{\"realtime_start\":\"2014-04-07\",\"realtime_end\":\"2014-04-07\",\"date\":\"1975-01-01\",\"value\":\"5430.4\"},{\"realtime_start\":\"2014-04-07\",\"realtime_end\":\"2014-04-07\",\"date\":\"1976-01-01\",\"value\":\"5729.1\"},{\"realtime_start\":\"2014-04-07\",\"realtime_end\":\"2014-04-07\",\"date\":\"1977-01-01\",\"value\":\"5997.3\"},{\"realtime_start\":\"2014-04-07\",\"realtime_end\":\"2014-04-07\",\"date\":\"1978-01-01\",\"value\":\"6326.9\"},{\"realtime_start\":\"2014-04-07\",\"realtime_end\":\"2014-04-07\",\"date\":\"1979-01-01\",\"value\":\"6547.0\"},{\"realtime_start\":\"2014-04-07\",\"realtime_end\":\"2014-04-07\",\"date\":\"1980-01-01\",\"value\":\"6530.3\"},{\"realtime_start\":\"2014-04-07\",\"realtime_end\":\"2014-04-07\",\"date\":\"1981-01-01\",\"value\":\"6688.0\"},{\"realtime_start\":\"2014-04-07\",\"realtime_end\":\"2014-04-07\",\"date\":\"1982-01-01\",\"value\":\"6564.6\"},{\"realtime_start\":\"2014-04-07\",\"realtime_end\":\"2014-04-07\",\"date\":\"1983-01-01\",\"value\":\"6863.2\"},{\"realtime_start\":\"2014-04-07\",\"realtime_end\":\"2014-04-07\",\"date\":\"1984-01-01\",\"value\":\"7352.5\"},{\"realtime_start\":\"2014-04-07\",\"realtime_end\":\"2014-04-07\",\"date\":\"1985-01-01\",\"value\":\"7640.2\"},{\"realtime_start\":\"2014-04-07\",\"realtime_end\":\"2014-04-07\",\"date\":\"1986-01-01\",\"value\":\"7890.9\"},{\"realtime_start\":\"2014-04-07\",\"realtime_end\":\"2014-04-07\",\"date\":\"1987-01-01\",\"value\":\"8161.0\"},{\"realtime_start\":\"2014-04-07\",\"realtime_end\":\"2014-04-07\",\"date\":\"1988-01-01\",\"value\":\"8509.9\"},{\"realtime_start\":\"2014-04-07\",\"realtime_end\":\"2014-04-07\",\"date\":\"1989-01-01\",\"value\":\"8822.6\"},{\"realtime_start\":\"2014-04-07\",\"realtime_end\":\"2014-04-07\",\"date\":\"1990-01-01\",\"value\":\"9003.0\"},{\"realtime_start\":\"2014-04-07\",\"realtime_end\":\"2014-04-07\",\"date\":\"1991-01-01\",\"value\":\"8988.6\"},{\"realtime_start\":\"2014-04-07\",\"realtime_end\":\"2014-04-07\",\"date\":\"1992-01-01\",\"value\":\"9305.0\"},{\"realtime_start\":\"2014-04-07\",\"realtime_end\":\"2014-04-07\",\"date\":\"1993-01-01\",\"value\":\"9559.8\"},{\"realtime_start\":\"2014-04-07\",\"realtime_end\":\"2014-04-07\",\"date\":\"1994-01-01\",\"value\":\"9932.2\"},{\"realtime_start\":\"2014-04-07\",\"realtime_end\":\"2014-04-07\",\"date\":\"1995-01-01\",\"value\":\"10206.2\"},{\"realtime_start\":\"2014-04-07\",\"realtime_end\":\"2014-04-07\",\"date\":\"1996-01-01\",\"value\":\"10595.1\"},{\"realtime_start\":\"2014-04-07\",\"realtime_end\":\"2014-04-07\",\"date\":\"1997-01-01\",\"value\":\"11058.1\"},{\"realtime_start\":\"2014-04-07\",\"realtime_end\":\"2014-04-07\",\"date\":\"1998-01-01\",\"value\":\"11540.7\"},{\"realtime_start\":\"2014-04-07\",\"realtime_end\":\"2014-04-07\",\"date\":\"1999-01-01\",\"value\":\"12108.9\"},{\"realtime_start\":\"2014-04-07\",\"realtime_end\":\"2014-04-07\",\"date\":\"2000-01-01\",\"value\":\"12614.3\"},{\"realtime_start\":\"2014-04-07\",\"realtime_end\":\"2014-04-07\",\"date\":\"2001-01-01\",\"value\":\"12750.2\"},{\"realtime_start\":\"2014-04-07\",\"realtime_end\":\"2014-04-07\",\"date\":\"2002-01-01\",\"value\":\"12970.8\"},{\"realtime_start\":\"2014-04-07\",\"realtime_end\":\"2014-04-07\",\"date\":\"2003-01-01\",\"value\":\"13352.2\"},{\"realtime_start\":\"2014-04-07\",\"realtime_end\":\"2014-04-07\",\"date\":\"2004-01-01\",\"value\":\"13879.0\"},{\"realtime_start\":\"2014-04-07\",\"realtime_end\":\"2014-04-07\",\"date\":\"2005-01-01\",\"value\":\"14340.8\"},{\"realtime_start\":\"2014-04-07\",\"realtime_end\":\"2014-04-07\",\"date\":\"2006-01-01\",\"value\":\"14690.9\"},{\"realtime_start\":\"2014-04-07\",\"realtime_end\":\"2014-04-07\",\"date\":\"2007-01-01\",\"value\":\"15009.7\"},{\"realtime_start\":\"2014-04-07\",\"realtime_end\":\"2014-04-07\",\"date\":\"2008-01-01\",\"value\":\"15009.0\"},{\"realtime_start\":\"2014-04-07\",\"realtime_end\":\"2014-04-07\",\"date\":\"2009-01-01\",\"value\":\"14565.1\"},{\"realtime_start\":\"2014-04-07\",\"realtime_end\":\"2014-04-07\",\"date\":\"2010-01-01\",\"value\":\"14966.5\"},{\"realtime_start\":\"2014-04-07\",\"realtime_end\":\"2014-04-07\",\"date\":\"2011-01-01\",\"value\":\"15286.7\"},{\"realtime_start\":\"2014-04-07\",\"realtime_end\":\"2014-04-07\",\"date\":\"2012-01-01\",\"value\":\"15693.1\"},{\"realtime_start\":\"2014-04-07\",\"realtime_end\":\"2014-04-07\",\"date\":\"2013-01-01\",\"value\":\"15985.0\"}]}'"
       ]
      }
     ],
     "prompt_number": 3
    },
    {
     "cell_type": "code",
     "collapsed": false,
     "input": [
      "import json\n",
      "json_data = json.loads(data)"
     ],
     "language": "python",
     "metadata": {},
     "outputs": [],
     "prompt_number": 4
    },
    {
     "cell_type": "code",
     "collapsed": false,
     "input": [
      "json_data.keys()"
     ],
     "language": "python",
     "metadata": {},
     "outputs": [
      {
       "output_type": "pyout",
       "prompt_number": 5,
       "text": [
        "[u'count',\n",
        " u'order_by',\n",
        " u'observation_start',\n",
        " u'file_type',\n",
        " u'observation_end',\n",
        " u'realtime_end',\n",
        " u'sort_order',\n",
        " u'limit',\n",
        " u'observations',\n",
        " u'offset',\n",
        " u'units',\n",
        " u'output_type',\n",
        " u'realtime_start']"
       ]
      }
     ],
     "prompt_number": 5
    },
    {
     "cell_type": "code",
     "collapsed": false,
     "input": [
      "values = []\n",
      "\n",
      "for o in json_data['observations']:\n",
      "    values.append(float(o['value']))\n"
     ],
     "language": "python",
     "metadata": {},
     "outputs": [],
     "prompt_number": 6
    },
    {
     "cell_type": "markdown",
     "metadata": {},
     "source": [
      "Should use something like the pandas module to ensure the data is consistent (e.g. the time series is equally spaced, ordered and there are no mising time values)"
     ]
    },
    {
     "cell_type": "code",
     "collapsed": false,
     "input": [
      "plot(values)"
     ],
     "language": "python",
     "metadata": {},
     "outputs": [
      {
       "output_type": "pyout",
       "prompt_number": 7,
       "text": [
        "[<matplotlib.lines.Line2D at 0x2f6cd50>]"
       ]
      },
      {
       "output_type": "display_data",
       "png": "[encoded data removed]"
      }
     ],
     "prompt_number": 7
    },
    {
     "cell_type": "code",
     "collapsed": false,
     "input": [
      "f = open('../shared/rgnp.txt', 'w')\n",
      "\n",
      "for v in values:\n",
      "    f.write(str(v) + '\\n')\n",
      "    \n",
      "f.close()\n"
     ],
     "language": "python",
     "metadata": {},
     "outputs": [],
     "prompt_number": 8
    },
    {
     "cell_type": "code",
     "collapsed": false,
     "input": [
      "!cat ../shared/rgnp.txt"
     ],
     "language": "python",
     "metadata": {},
     "outputs": [
      {
       "output_type": "stream",
       "stream": "stdout",
       "text": [
        "1065.9\r\n",
        "975.5\r\n",
        "912.1\r\n",
        "794.1\r\n",
        "783.3\r\n",
        "866.7\r\n",
        "944.3\r\n",
        "1065.0\r\n",
        "1120.6\r\n",
        "1083.9\r\n",
        "1170.2\r\n",
        "1271.7\r\n",
        "1497.6\r\n",
        "1779.4\r\n",
        "2081.2\r\n",
        "2247.3\r\n",
        "2224.7\r\n",
        "1969.3\r\n",
        "1950.6\r\n",
        "2033.2\r\n",
        "2021.1\r\n",
        "2197.5\r\n",
        "2376.4\r\n",
        "2473.1\r\n",
        "2587.7\r\n",
        "2574.2\r\n",
        "2758.4\r\n",
        "2818.6\r\n",
        "2878.5\r\n",
        "2854.6\r\n",
        "3050.8\r\n",
        "3130.4\r\n",
        "3211.9\r\n",
        "3409.8\r\n",
        "3559.0\r\n",
        "3764.8\r\n",
        "4008.8\r\n",
        "4269.4\r\n",
        "4386.7\r\n",
        "4602.8\r\n",
        "4745.2\r\n",
        "4754.6\r\n",
        "4913.6\r\n",
        "5172.2\r\n",
        "5475.1\r\n",
        "5454.1\r\n",
        "5430.4\r\n",
        "5729.1\r\n",
        "5997.3\r\n",
        "6326.9\r\n",
        "6547.0\r\n",
        "6530.3\r\n",
        "6688.0\r\n",
        "6564.6\r\n",
        "6863.2\r\n",
        "7352.5\r\n",
        "7640.2\r\n",
        "7890.9\r\n",
        "8161.0\r\n",
        "8509.9\r\n",
        "8822.6\r\n",
        "9003.0\r\n",
        "8988.6\r\n",
        "9305.0\r\n",
        "9559.8\r\n",
        "9932.2\r\n",
        "10206.2\r\n",
        "10595.1\r\n",
        "11058.1\r\n",
        "11540.7\r\n",
        "12108.9\r\n",
        "12614.3\r\n",
        "12750.2\r\n",
        "12970.8\r\n",
        "13352.2\r\n",
        "13879.0\r\n",
        "14340.8\r\n",
        "14690.9\r\n",
        "15009.7\r\n",
        "15009.0\r\n",
        "14565.1\r\n",
        "14966.5\r\n",
        "15286.7\r\n",
        "15693.1\r\n",
        "15985.0\r\n"
       ]
      }
     ],
     "prompt_number": 9
    },
    {
     "cell_type": "markdown",
     "metadata": {},
     "source": [
      "There are lots of series in this repository:\n",
      "\n",
      "https://research.stlouisfed.org/fred2/tags/series"
     ]
    },
    {
     "cell_type": "code",
     "collapsed": false,
     "input": [
      "series_id = 'UNRATE'\n",
      "\n",
      "request_url = 'http://api.stlouisfed.org/fred/series/observations?series_id=' + series_id + '&api_key=' + fred_key + '&file_type=json'\n",
      "\n",
      "f = urllib2.urlopen(request_url)\n",
      "data = f.read()\n",
      "json_data = json.loads(data)\n",
      "\n",
      "values = []\n",
      "for o in json_data['observations']:\n",
      "    values.append(float(o['value']))\n",
      "    \n",
      "plot(values)"
     ],
     "language": "python",
     "metadata": {},
     "outputs": [
      {
       "output_type": "pyout",
       "prompt_number": 10,
       "text": [
        "[<matplotlib.lines.Line2D at 0x32f2ad0>]"
       ]
      },
      {
       "output_type": "display_data",
       "png": "[encoded data removed]"
      }
     ],
     "prompt_number": 10
    },
    {
     "cell_type": "code",
     "collapsed": false,
     "input": [
      "f = open('../shared/unrate.txt', 'w')\n",
      "\n",
      "for v in values:\n",
      "    f.write(str(v) + '\\n')\n",
      "    \n",
      "f.close()"
     ],
     "language": "python",
     "metadata": {},
     "outputs": [],
     "prompt_number": 11
    },
    {
     "cell_type": "code",
     "collapsed": false,
     "input": [
      "series_id = 'GS10'\n",
      "\n",
      "request_url = 'http://api.stlouisfed.org/fred/series/observations?series_id=' + series_id + '&api_key=' + fred_key + '&file_type=json'\n",
      "\n",
      "f = urllib2.urlopen(request_url)\n",
      "data = f.read()\n",
      "json_data = json.loads(data)\n",
      "\n",
      "values = []\n",
      "for o in json_data['observations']:\n",
      "    values.append(float(o['value']))\n",
      "    \n",
      "plot(values)"
     ],
     "language": "python",
     "metadata": {},
     "outputs": [
      {
       "output_type": "pyout",
       "prompt_number": 12,
       "text": [
        "[<matplotlib.lines.Line2D at 0x3143e10>]"
       ]
      },
      {
       "output_type": "display_data",
       "png": "[encoded data removed]"
      }
     ],
     "prompt_number": 12
    },
    {
     "cell_type": "code",
     "collapsed": false,
     "input": [
      "f = open('../shared/gs10.txt', 'w')\n",
      "\n",
      "for v in values:\n",
      "    f.write(str(v) + '\\n')\n",
      "    \n",
      "f.close()"
     ],
     "language": "python",
     "metadata": {},
     "outputs": [],
     "prompt_number": 13
    },
    {
     "cell_type": "markdown",
     "metadata": {},
     "source": [
      "By: Andr\u00e9s Cabrera mantaraya36@gmail.com\n",
      "\n",
      "For Course MAT 240F at UCSB\n",
      "\n",
      "This ipython notebook is licensed under the CC-BY-NC-SA license: http://creativecommons.org/licenses/by-nc-sa/4.0/\n",
      "\n",
      "![http://i.creativecommons.org/l/by-nc-sa/3.0/88x31.png](http://i.creativecommons.org/l/by-nc-sa/3.0/88x31.png)"
     ]
    }
   ],
   "metadata": {}
  }
 ]
}